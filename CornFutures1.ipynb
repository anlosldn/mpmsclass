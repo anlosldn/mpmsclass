{
  "nbformat": 4,
  "nbformat_minor": 0,
  "metadata": {
    "colab": {
      "name": "CornFutures1.ipynb",
      "provenance": [],
      "collapsed_sections": []
    },
    "kernelspec": {
      "display_name": "Python 3",
      "language": "python",
      "name": "python3"
    },
    "language_info": {
      "codemirror_mode": {
        "name": "ipython",
        "version": 3
      },
      "file_extension": ".py",
      "mimetype": "text/x-python",
      "name": "python",
      "nbconvert_exporter": "python",
      "pygments_lexer": "ipython3",
      "version": "3.6.4"
    }
  },
  "cells": [
    {
      "cell_type": "markdown",
      "metadata": {
        "id": "BHO2ZzQrktAQ",
        "colab_type": "text"
      },
      "source": [
        "## Corn Spot Time Series Analysis\n",
        "\n",
        "In this script we import futures prices from quandl using an API key.\n",
        "\n",
        "If you need to install Quandl, you can run this code (you may need to install it to your Colab environment too)"
      ]
    },
    {
      "cell_type": "code",
      "metadata": {
        "colab_type": "code",
        "id": "lYgMfafIzr8l",
        "colab": {}
      },
      "source": [
        "!pip install -q quandl"
      ],
      "execution_count": 44,
      "outputs": []
    },
    {
      "cell_type": "code",
      "metadata": {
        "id": "71MAdkKphwfg",
        "colab_type": "code",
        "colab": {}
      },
      "source": [
        "!pip install -q pmdarima"
      ],
      "execution_count": 45,
      "outputs": []
    },
    {
      "cell_type": "code",
      "metadata": {
        "colab_type": "code",
        "id": "6hP8w4tIzFbq",
        "colab": {}
      },
      "source": [
        "import quandl\n",
        "import pandas as pd\n",
        "import numpy as np\n",
        "import matplotlib.pyplot as plt\n",
        "import statsmodels.tsa.stattools as sts\n",
        "import statsmodels.graphics.tsaplots as sgt\n",
        "from statsmodels.tsa.seasonal import seasonal_decompose\n",
        "import seaborn as sns\n",
        "from math import sqrt\n",
        "sns.set()\n",
        "%matplotlib inline\n",
        "\n",
        "import warnings\n",
        "warnings.filterwarnings(\"ignore\")"
      ],
      "execution_count": 46,
      "outputs": []
    },
    {
      "cell_type": "markdown",
      "metadata": {
        "id": "WwwxLLIrktAZ",
        "colab_type": "text"
      },
      "source": [
        "Import Corn Spot Data from Quandl using your API key"
      ]
    },
    {
      "cell_type": "code",
      "metadata": {
        "colab_type": "code",
        "id": "InGR_1-J03-l",
        "colab": {}
      },
      "source": [
        "df = quandl.get(\"TFGRAIN/CORN\", authtoken=\"nQW1ynmsFtb42YM2sf4Z\")"
      ],
      "execution_count": 47,
      "outputs": []
    },
    {
      "cell_type": "code",
      "metadata": {
        "id": "cRopV096kRux",
        "colab_type": "code",
        "colab": {}
      },
      "source": [
        "# df.to_csv(r'CornData.csv')"
      ],
      "execution_count": 48,
      "outputs": []
    },
    {
      "cell_type": "code",
      "metadata": {
        "colab_type": "code",
        "id": "jpkHyPnKz0ND",
        "colab": {
          "base_uri": "https://localhost:8080/",
          "height": 235
        },
        "outputId": "ea81b51e-ad67-401b-b741-5eb0ab955ee8"
      },
      "source": [
        "df.tail()"
      ],
      "execution_count": 49,
      "outputs": [
        {
          "output_type": "execute_result",
          "data": {
            "text/html": [
              "<div>\n",
              "<style scoped>\n",
              "    .dataframe tbody tr th:only-of-type {\n",
              "        vertical-align: middle;\n",
              "    }\n",
              "\n",
              "    .dataframe tbody tr th {\n",
              "        vertical-align: top;\n",
              "    }\n",
              "\n",
              "    .dataframe thead th {\n",
              "        text-align: right;\n",
              "    }\n",
              "</style>\n",
              "<table border=\"1\" class=\"dataframe\">\n",
              "  <thead>\n",
              "    <tr style=\"text-align: right;\">\n",
              "      <th></th>\n",
              "      <th>Cash Price</th>\n",
              "      <th>Basis</th>\n",
              "      <th>Fall Price</th>\n",
              "      <th>Fall Basis</th>\n",
              "    </tr>\n",
              "    <tr>\n",
              "      <th>Date</th>\n",
              "      <th></th>\n",
              "      <th></th>\n",
              "      <th></th>\n",
              "      <th></th>\n",
              "    </tr>\n",
              "  </thead>\n",
              "  <tbody>\n",
              "    <tr>\n",
              "      <th>2020-06-08</th>\n",
              "      <td>3.21</td>\n",
              "      <td>-0.13</td>\n",
              "      <td>3.21</td>\n",
              "      <td>-0.27</td>\n",
              "    </tr>\n",
              "    <tr>\n",
              "      <th>2020-06-09</th>\n",
              "      <td>3.15</td>\n",
              "      <td>-0.13</td>\n",
              "      <td>3.16</td>\n",
              "      <td>-0.27</td>\n",
              "    </tr>\n",
              "    <tr>\n",
              "      <th>2020-06-10</th>\n",
              "      <td>3.13</td>\n",
              "      <td>-0.13</td>\n",
              "      <td>3.15</td>\n",
              "      <td>-0.27</td>\n",
              "    </tr>\n",
              "    <tr>\n",
              "      <th>2020-06-11</th>\n",
              "      <td>3.17</td>\n",
              "      <td>-0.13</td>\n",
              "      <td>3.17</td>\n",
              "      <td>-0.27</td>\n",
              "    </tr>\n",
              "    <tr>\n",
              "      <th>2020-06-12</th>\n",
              "      <td>3.17</td>\n",
              "      <td>-0.13</td>\n",
              "      <td>3.14</td>\n",
              "      <td>-0.27</td>\n",
              "    </tr>\n",
              "  </tbody>\n",
              "</table>\n",
              "</div>"
            ],
            "text/plain": [
              "            Cash Price  Basis  Fall Price  Fall Basis\n",
              "Date                                                 \n",
              "2020-06-08        3.21  -0.13        3.21       -0.27\n",
              "2020-06-09        3.15  -0.13        3.16       -0.27\n",
              "2020-06-10        3.13  -0.13        3.15       -0.27\n",
              "2020-06-11        3.17  -0.13        3.17       -0.27\n",
              "2020-06-12        3.17  -0.13        3.14       -0.27"
            ]
          },
          "metadata": {
            "tags": []
          },
          "execution_count": 49
        }
      ]
    },
    {
      "cell_type": "code",
      "metadata": {
        "colab_type": "code",
        "id": "6F-spq9Zz26Q",
        "colab": {}
      },
      "source": [
        "# Keep a copy of our data\n",
        "\n",
        "df_copy = df.copy()"
      ],
      "execution_count": 50,
      "outputs": []
    },
    {
      "cell_type": "markdown",
      "metadata": {
        "id": "ollQZRA3lJSF",
        "colab_type": "text"
      },
      "source": [
        "Notice the date column is already the set as the dataframe index, otherwise we would have to set the Date column to the index\n",
        "\n",
        "we would run...\n",
        "\n",
        "df.set_index(\"Date\", inplace=True)\n",
        "\n",
        "If we ran that now we would no longer have a Date column so would get an error - there is no index column expect for Date\n"
      ]
    },
    {
      "cell_type": "code",
      "metadata": {
        "colab_type": "code",
        "id": "2-n7WAWD10tN",
        "scrolled": true,
        "colab": {
          "base_uri": "https://localhost:8080/",
          "height": 104
        },
        "outputId": "5b6593c1-4666-4783-e408-1e58583aebb7"
      },
      "source": [
        "# We can check our time series for any missing data points - NaN \n",
        "\n",
        "df.isna().sum()"
      ],
      "execution_count": 51,
      "outputs": [
        {
          "output_type": "execute_result",
          "data": {
            "text/plain": [
              "Cash Price     0\n",
              "Basis          0\n",
              "Fall Price    19\n",
              "Fall Basis    19\n",
              "dtype: int64"
            ]
          },
          "metadata": {
            "tags": []
          },
          "execution_count": 51
        }
      ]
    },
    {
      "cell_type": "markdown",
      "metadata": {
        "id": "OQa2ujAqktAr",
        "colab_type": "text"
      },
      "source": [
        "We can see our data has no missing data points in the Cash Price column - we won't be using the Change column (that is a first differencing result anyway) so will delete that column.  \n",
        "\n",
        "YOu can see the column headings in the output above..."
      ]
    },
    {
      "cell_type": "code",
      "metadata": {
        "id": "IWqkLo2lktAs",
        "colab_type": "code",
        "colab": {}
      },
      "source": [
        "del df['Basis']\n",
        "del df[\"Fall Price\"]\n",
        "del df[\"Fall Basis\"]\n"
      ],
      "execution_count": 52,
      "outputs": []
    },
    {
      "cell_type": "code",
      "metadata": {
        "id": "1eonOYA3ktAv",
        "colab_type": "code",
        "colab": {
          "base_uri": "https://localhost:8080/",
          "height": 293
        },
        "outputId": "7a99ad67-e2d4-4659-bb37-075318f43626"
      },
      "source": [
        "# In this example we are using data from 2015 and using the term 'Spot' price \n",
        "# to describe the cash price the futures contracts are priced off\n",
        "\n",
        "df = df['2015-01-01':]\n",
        "df.rename(columns={'Cash Price':'Spot'}, inplace=True)\n",
        "df.plot()"
      ],
      "execution_count": 53,
      "outputs": [
        {
          "output_type": "execute_result",
          "data": {
            "text/plain": [
              "<matplotlib.axes._subplots.AxesSubplot at 0x7f678fa30ef0>"
            ]
          },
          "metadata": {
            "tags": []
          },
          "execution_count": 53
        },
        {
          "output_type": "display_data",
          "data": {
            "image/png": "[encoded data removed]",
            "text/plain": [
              "<Figure size 432x288 with 1 Axes>"
            ]
          },
          "metadata": {
            "tags": [],
            "needs_background": "light"
          }
        }
      ]
    },
    {
      "cell_type": "markdown",
      "metadata": {
        "id": "pUZHfDwcktAy",
        "colab_type": "text"
      },
      "source": [
        "We now split our time series into a 80/20 Training/Test Split "
      ]
    },
    {
      "cell_type": "code",
      "metadata": {
        "id": "2CC71lckktAz",
        "colab_type": "code",
        "colab": {}
      },
      "source": [
        "size = int(len(df)*0.8)"
      ],
      "execution_count": 54,
      "outputs": []
    },
    {
      "cell_type": "code",
      "metadata": {
        "id": "N-zLWLXIktA2",
        "colab_type": "code",
        "colab": {}
      },
      "source": [
        "df_training = df.iloc[:size]\n",
        "df_test = df.iloc[size:]"
      ],
      "execution_count": 55,
      "outputs": []
    },
    {
      "cell_type": "markdown",
      "metadata": {
        "id": "qfkLmnJRktA5",
        "colab_type": "text"
      },
      "source": [
        "We can check where our training set ends and our test set begins"
      ]
    },
    {
      "cell_type": "code",
      "metadata": {
        "scrolled": false,
        "id": "pAhVUHhuktA6",
        "colab_type": "code",
        "colab": {
          "base_uri": "https://localhost:8080/",
          "height": 235
        },
        "outputId": "8f38772f-19b9-4b67-8f14-b80ffadc0b2c"
      },
      "source": [
        "df_test.head()"
      ],
      "execution_count": 56,
      "outputs": [
        {
          "output_type": "execute_result",
          "data": {
            "text/html": [
              "<div>\n",
              "<style scoped>\n",
              "    .dataframe tbody tr th:only-of-type {\n",
              "        vertical-align: middle;\n",
              "    }\n",
              "\n",
              "    .dataframe tbody tr th {\n",
              "        vertical-align: top;\n",
              "    }\n",
              "\n",
              "    .dataframe thead th {\n",
              "        text-align: right;\n",
              "    }\n",
              "</style>\n",
              "<table border=\"1\" class=\"dataframe\">\n",
              "  <thead>\n",
              "    <tr style=\"text-align: right;\">\n",
              "      <th></th>\n",
              "      <th>Spot</th>\n",
              "    </tr>\n",
              "    <tr>\n",
              "      <th>Date</th>\n",
              "      <th></th>\n",
              "    </tr>\n",
              "  </thead>\n",
              "  <tbody>\n",
              "    <tr>\n",
              "      <th>2019-05-14</th>\n",
              "      <td>3.46</td>\n",
              "    </tr>\n",
              "    <tr>\n",
              "      <th>2019-05-15</th>\n",
              "      <td>3.47</td>\n",
              "    </tr>\n",
              "    <tr>\n",
              "      <th>2019-05-16</th>\n",
              "      <td>3.56</td>\n",
              "    </tr>\n",
              "    <tr>\n",
              "      <th>2019-05-17</th>\n",
              "      <td>3.60</td>\n",
              "    </tr>\n",
              "    <tr>\n",
              "      <th>2019-05-20</th>\n",
              "      <td>3.70</td>\n",
              "    </tr>\n",
              "  </tbody>\n",
              "</table>\n",
              "</div>"
            ],
            "text/plain": [
              "            Spot\n",
              "Date            \n",
              "2019-05-14  3.46\n",
              "2019-05-15  3.47\n",
              "2019-05-16  3.56\n",
              "2019-05-17  3.60\n",
              "2019-05-20  3.70"
            ]
          },
          "metadata": {
            "tags": []
          },
          "execution_count": 56
        }
      ]
    },
    {
      "cell_type": "code",
      "metadata": {
        "scrolled": true,
        "id": "p3N4FKx1ktA9",
        "colab_type": "code",
        "colab": {
          "base_uri": "https://localhost:8080/",
          "height": 235
        },
        "outputId": "e47a9b8d-a7f7-4ed6-84a6-735e595e2209"
      },
      "source": [
        "df_training.tail()"
      ],
      "execution_count": 57,
      "outputs": [
        {
          "output_type": "execute_result",
          "data": {
            "text/html": [
              "<div>\n",
              "<style scoped>\n",
              "    .dataframe tbody tr th:only-of-type {\n",
              "        vertical-align: middle;\n",
              "    }\n",
              "\n",
              "    .dataframe tbody tr th {\n",
              "        vertical-align: top;\n",
              "    }\n",
              "\n",
              "    .dataframe thead th {\n",
              "        text-align: right;\n",
              "    }\n",
              "</style>\n",
              "<table border=\"1\" class=\"dataframe\">\n",
              "  <thead>\n",
              "    <tr style=\"text-align: right;\">\n",
              "      <th></th>\n",
              "      <th>Spot</th>\n",
              "    </tr>\n",
              "    <tr>\n",
              "      <th>Date</th>\n",
              "      <th></th>\n",
              "    </tr>\n",
              "  </thead>\n",
              "  <tbody>\n",
              "    <tr>\n",
              "      <th>2019-05-07</th>\n",
              "      <td>3.43</td>\n",
              "    </tr>\n",
              "    <tr>\n",
              "      <th>2019-05-08</th>\n",
              "      <td>3.40</td>\n",
              "    </tr>\n",
              "    <tr>\n",
              "      <th>2019-05-09</th>\n",
              "      <td>3.29</td>\n",
              "    </tr>\n",
              "    <tr>\n",
              "      <th>2019-05-10</th>\n",
              "      <td>3.28</td>\n",
              "    </tr>\n",
              "    <tr>\n",
              "      <th>2019-05-13</th>\n",
              "      <td>3.33</td>\n",
              "    </tr>\n",
              "  </tbody>\n",
              "</table>\n",
              "</div>"
            ],
            "text/plain": [
              "            Spot\n",
              "Date            \n",
              "2019-05-07  3.43\n",
              "2019-05-08  3.40\n",
              "2019-05-09  3.29\n",
              "2019-05-10  3.28\n",
              "2019-05-13  3.33"
            ]
          },
          "metadata": {
            "tags": []
          },
          "execution_count": 57
        }
      ]
    },
    {
      "cell_type": "markdown",
      "metadata": {
        "id": "N5QD80qZktBA",
        "colab_type": "text"
      },
      "source": [
        "### White Noise\n",
        "\n",
        "This is the unpredictable portion of a time series - with a constant mean, constant variance and no autocorrelation\n",
        "\n",
        "p = corr(X, Xt-1) - there is no way to model white noise\n",
        "\n",
        "We want our residuals to resemble white noise\n",
        "\n"
      ]
    },
    {
      "cell_type": "markdown",
      "metadata": {
        "id": "5qswsbFPle6_",
        "colab_type": "text"
      },
      "source": [
        "### Stationarity\n",
        "\n",
        "Taking samples across the time series should have the same Covariance at all parts of the series.\n",
        "\n",
        "Constant Mean, Constant Variance, Equal Covariance\n",
        "\n",
        "White noise is a stationary time series\n",
        "\n",
        "KT:  A regression coefficient is an estimate of the average relationship between the dependent / predictor variables - therefore the relationship must be stable through the series or we can't estimate the regression coefficients\n",
        "\n",
        "It is important to remember that with financial asset price data, the chance of any two windows / intervals of equal size returning the same Covariance is very unlikely - therefore NOT stationary. \n",
        "\n",
        "So we can run a Dickey-Fuller test...\n",
        "\n"
      ]
    },
    {
      "cell_type": "markdown",
      "metadata": {
        "id": "aGQHt424m1Ga",
        "colab_type": "text"
      },
      "source": [
        "### Dickey Fuller Test for Stationarity\n",
        "\n",
        "Is a hypothesis test...(presence of a unit root process)\n",
        "\n",
        "  Ho: 1 lag autocorrelation coeff. < 1\n",
        "\n",
        "  H1: 1 lag autocorrelation coeff. = 1\n",
        "\n",
        "If the DF test stat < Critical Value - we REJECT the NULL - we have enough evidence of Stationarity\n",
        "\n",
        "[Augmented Dickey Fuller](en.wikipedia.org/wiki/Augmented_Dickey–Fuller_test) - see the Section 'Intuition'\n",
        "\n",
        "\n",
        "\n"
      ]
    },
    {
      "cell_type": "code",
      "metadata": {
        "id": "TAQa_23TktBA",
        "colab_type": "code",
        "colab": {
          "base_uri": "https://localhost:8080/",
          "height": 157
        },
        "outputId": "5b257a35-4e57-4f26-ba55-0c0da1e49e28"
      },
      "source": [
        "# Dickey Fuller Test\n",
        "\n",
        "sts.adfuller(df.Spot)"
      ],
      "execution_count": 58,
      "outputs": [
        {
          "output_type": "execute_result",
          "data": {
            "text/plain": [
              "(-3.4563205095526706,\n",
              " 0.009182347115019317,\n",
              " 0,\n",
              " 1369,\n",
              " {'1%': -3.435135685820292,\n",
              "  '10%': -2.5678952387601703,\n",
              "  '5%': -2.863653523836867},\n",
              " -4174.182652516296)"
            ]
          },
          "metadata": {
            "tags": []
          },
          "execution_count": 58
        }
      ]
    },
    {
      "cell_type": "markdown",
      "metadata": {
        "id": "EZ43hgWkppiN",
        "colab_type": "text"
      },
      "source": [
        "Notice the first line is the test stat (-3.41 - but this is a dynamic TS so will change over time)\n",
        "\n",
        "The Critical Values at 5% = -2.86\n",
        "\n",
        "Therefore our Test Stat < Critical Stat - WE CAN REJECT - we have enough evidence of stationarity at 5%\n",
        "\n",
        "The second line = p-value of test stat (0.0107) - the chance that the data comes from a non-stationary process\n",
        "\n",
        "However this is a financial TS, and usually the data will not be stationary (because prices tend to rise - TREND - and volatility comes in bursts) \n",
        "\n",
        "The third line = number of lags used in regression when determining the test stat\n",
        "\n",
        "The fourth line = number of observations used in the analysis = size of data set\n",
        "\n",
        "Last line = Max Info Criteria if there is autocorrelation, the lower the better for predicting using TS \n",
        "\n",
        "\n"
      ]
    },
    {
      "cell_type": "markdown",
      "metadata": {
        "id": "gP7UCigIJJVM",
        "colab_type": "text"
      },
      "source": [
        "### ACF\n",
        "\n",
        "We set the lags to 40 (standard practice otherwise defaults to entire series, zero=False)"
      ]
    },
    {
      "cell_type": "code",
      "metadata": {
        "id": "JztNILR5uZVU",
        "colab_type": "code",
        "colab": {
          "base_uri": "https://localhost:8080/",
          "height": 289
        },
        "outputId": "c1fac650-c5bd-44f0-e749-e3a9c81aeff6"
      },
      "source": [
        "sgt.plot_acf(df_training, lags = 40 ,zero = False)\n",
        "plt.title(\"ACF Corn Spot Prices\", size = 20)\n",
        "plt.show()"
      ],
      "execution_count": 59,
      "outputs": [
        {
          "output_type": "display_data",
          "data": {
            "image/png": "[encoded data removed]",
            "text/plain": [
              "<Figure size 432x288 with 1 Axes>"
            ]
          },
          "metadata": {
            "tags": [],
            "needs_background": "light"
          }
        }
      ]
    },
    {
      "cell_type": "markdown",
      "metadata": {
        "id": "HwGGEi2GJny2",
        "colab_type": "text"
      },
      "source": [
        "Values on the x axis = lags\n",
        "Y-axis = correlations\n",
        "The blue shaded area = significance - if the top of the line is outside the blue shaded areas, then significant\n",
        "\n",
        "The greater the lag, the less likely the autocorrelation is significant (increasing blue area fanning out)"
      ]
    },
    {
      "cell_type": "markdown",
      "metadata": {
        "id": "bg401bgwMGQq",
        "colab_type": "text"
      },
      "source": [
        "### PACF\n",
        "\n",
        "We measure how all past data impacts current data - directly (ACF) and indirectly (PACF)\n",
        "\n",
        "What is the impact of the price 3 days ago, without considering it's impact on the price 2 days ago, in turn yesterday's price impact on current price\n",
        "\n",
        "PACF only measures the impact it has on the current price net of prices in between the current and each lagged value\n",
        "\n",
        "\n"
      ]
    },
    {
      "cell_type": "code",
      "metadata": {
        "id": "1Lc1tGmrJMWh",
        "colab_type": "code",
        "colab": {
          "base_uri": "https://localhost:8080/",
          "height": 289
        },
        "outputId": "c39d0870-d386-4f75-b1a4-c3d305d16faa"
      },
      "source": [
        "sgt.plot_pacf(df_training, lags = 40, alpha = 0.05, zero = False, method = ('ols'))\n",
        "plt.title(\"PACF for Spot Corn Prices\", size = 20)\n",
        "plt.show()"
      ],
      "execution_count": 60,
      "outputs": [
        {
          "output_type": "display_data",
          "data": {
            "image/png": "[encoded data removed]",
            "text/plain": [
              "<Figure size 432x288 with 1 Axes>"
            ]
          },
          "metadata": {
            "tags": [],
            "needs_background": "light"
          }
        }
      ]
    },
    {
      "cell_type": "markdown",
      "metadata": {
        "id": "0xtvfSWsNqLd",
        "colab_type": "text"
      },
      "source": [
        "Notice can also exhibit negative values - so for instance observation 4 periods ago results in inverse impact on current variable (dynamic so will change from time of writing)"
      ]
    },
    {
      "cell_type": "markdown",
      "metadata": {
        "id": "BNCoEuQtO6Pw",
        "colab_type": "text"
      },
      "source": [
        "### Model Selection\n",
        "\n",
        "1. Significant Coefficients - must be significantly different from zero\n",
        "2. Parsimonious - The lower the AICc the less data the model needs to make a prediction\n",
        "3. Residuals should resemble white noise - we want to capture all of the information in the series we possibly can. "
      ]
    },
    {
      "cell_type": "markdown",
      "metadata": {
        "id": "ZPPJsgGmS7tl",
        "colab_type": "text"
      },
      "source": [
        "We are looking at the variables that have the most direct impact on our current variable, so check PACF "
      ]
    },
    {
      "cell_type": "code",
      "metadata": {
        "id": "K8bHqfiGO994",
        "colab_type": "code",
        "colab": {}
      },
      "source": [
        "from statsmodels.tsa.arima_model import ARMA\n",
        "from scipy.stats.distributions import chi2\n"
      ],
      "execution_count": 61,
      "outputs": []
    },
    {
      "cell_type": "code",
      "metadata": {
        "id": "7bNHsAXkSSMQ",
        "colab_type": "code",
        "colab": {}
      },
      "source": [
        "model_AR = ARMA(df_training, order=(1,0))"
      ],
      "execution_count": 62,
      "outputs": []
    },
    {
      "cell_type": "code",
      "metadata": {
        "id": "k-9kRdzgSkD1",
        "colab_type": "code",
        "colab": {}
      },
      "source": [
        "results_AR = model_AR.fit()\n",
        "# results_AR.summary()"
      ],
      "execution_count": 63,
      "outputs": []
    },
    {
      "cell_type": "code",
      "metadata": {
        "id": "kVhd6QEnTrEU",
        "colab_type": "code",
        "colab": {
          "base_uri": "https://localhost:8080/",
          "height": 292
        },
        "outputId": "6a48bf7a-8549-4aa8-cc97-b6013413b388"
      },
      "source": [
        "results_AR.summary()"
      ],
      "execution_count": 64,
      "outputs": [
        {
          "output_type": "execute_result",
          "data": {
            "text/html": [
              "<table class=\"simpletable\">\n",
              "<caption>ARMA Model Results</caption>\n",
              "<tr>\n",
              "  <th>Dep. Variable:</th>       <td>Spot</td>       <th>  No. Observations:  </th>   <td>1096</td>   \n",
              "</tr>\n",
              "<tr>\n",
              "  <th>Model:</th>            <td>ARMA(1, 0)</td>    <th>  Log Likelihood     </th> <td>1762.636</td> \n",
              "</tr>\n",
              "<tr>\n",
              "  <th>Method:</th>             <td>css-mle</td>     <th>  S.D. of innovations</th>   <td>0.048</td>  \n",
              "</tr>\n",
              "<tr>\n",
              "  <th>Date:</th>          <td>Tue, 16 Jun 2020</td> <th>  AIC                </th> <td>-3519.272</td>\n",
              "</tr>\n",
              "<tr>\n",
              "  <th>Time:</th>              <td>18:05:45</td>     <th>  BIC                </th> <td>-3504.274</td>\n",
              "</tr>\n",
              "<tr>\n",
              "  <th>Sample:</th>                <td>0</td>        <th>  HQIC               </th> <td>-3513.597</td>\n",
              "</tr>\n",
              "<tr>\n",
              "  <th></th>                       <td> </td>        <th>                     </th>     <td> </td>    \n",
              "</tr>\n",
              "</table>\n",
              "<table class=\"simpletable\">\n",
              "<tr>\n",
              "       <td></td>         <th>coef</th>     <th>std err</th>      <th>z</th>      <th>P>|z|</th>  <th>[0.025</th>    <th>0.975]</th>  \n",
              "</tr>\n",
              "<tr>\n",
              "  <th>const</th>      <td>    3.4888</td> <td>    0.048</td> <td>   72.641</td> <td> 0.000</td> <td>    3.395</td> <td>    3.583</td>\n",
              "</tr>\n",
              "<tr>\n",
              "  <th>ar.L1.Spot</th> <td>    0.9704</td> <td>    0.007</td> <td>  134.784</td> <td> 0.000</td> <td>    0.956</td> <td>    0.985</td>\n",
              "</tr>\n",
              "</table>\n",
              "<table class=\"simpletable\">\n",
              "<caption>Roots</caption>\n",
              "<tr>\n",
              "    <td></td>   <th>            Real</th>  <th>         Imaginary</th> <th>         Modulus</th>  <th>        Frequency</th>\n",
              "</tr>\n",
              "<tr>\n",
              "  <th>AR.1</th> <td>           1.0305</td> <td>          +0.0000j</td> <td>           1.0305</td> <td>           0.0000</td>\n",
              "</tr>\n",
              "</table>"
            ],
            "text/plain": [
              "<class 'statsmodels.iolib.summary.Summary'>\n",
              "\"\"\"\n",
              "                              ARMA Model Results                              \n",
              "==============================================================================\n",
              "Dep. Variable:                   Spot   No. Observations:                 1096\n",
              "Model:                     ARMA(1, 0)   Log Likelihood                1762.636\n",
              "Method:                       css-mle   S.D. of innovations              0.048\n",
              "Date:                Tue, 16 Jun 2020   AIC                          -3519.272\n",
              "Time:                        18:05:45   BIC                          -3504.274\n",
              "Sample:                             0   HQIC                         -3513.597\n",
              "                                                                              \n",
              "==============================================================================\n",
              "                 coef    std err          z      P>|z|      [0.025      0.975]\n",
              "------------------------------------------------------------------------------\n",
              "const          3.4888      0.048     72.641      0.000       3.395       3.583\n",
              "ar.L1.Spot     0.9704      0.007    134.784      0.000       0.956       0.985\n",
              "                                    Roots                                    \n",
              "=============================================================================\n",
              "                  Real          Imaginary           Modulus         Frequency\n",
              "-----------------------------------------------------------------------------\n",
              "AR.1            1.0305           +0.0000j            1.0305            0.0000\n",
              "-----------------------------------------------------------------------------\n",
              "\"\"\""
            ]
          },
          "metadata": {
            "tags": []
          },
          "execution_count": 64
        }
      ]
    },
    {
      "cell_type": "code",
      "metadata": {
        "id": "GVhtgsLQT7sW",
        "colab_type": "code",
        "colab": {}
      },
      "source": [
        "model_AR2 = ARMA(df_training, order=(2,0))\n",
        "model_AR3 = ARMA(df_training, order=(3,0))\n",
        "model_AR4 = ARMA(df_training, order=(4,0))\n",
        "model_AR5 = ARMA(df_training, order=(5,0))\n",
        "model_AR6 = ARMA(df_training, order=(6,0))\n",
        "model_AR7 = ARMA(df_training, order=(7,0))"
      ],
      "execution_count": 65,
      "outputs": []
    },
    {
      "cell_type": "code",
      "metadata": {
        "id": "TejxxE2cUQe3",
        "colab_type": "code",
        "colab": {}
      },
      "source": [
        "results_AR2 = model_AR2.fit()\n",
        "results_AR3 = model_AR3.fit()\n",
        "results_AR4 = model_AR4.fit()\n",
        "results_AR5 = model_AR5.fit()\n",
        "results_AR6 = model_AR6.fit()\n",
        "results_AR7 = model_AR7.fit()"
      ],
      "execution_count": 66,
      "outputs": []
    },
    {
      "cell_type": "code",
      "metadata": {
        "id": "x2NGlTJrUWBA",
        "colab_type": "code",
        "colab": {
          "base_uri": "https://localhost:8080/",
          "height": 402
        },
        "outputId": "4c39ee31-27a9-4b40-8dc8-cc0074e1e584"
      },
      "source": [
        "print(results_AR2.summary())"
      ],
      "execution_count": 67,
      "outputs": [
        {
          "output_type": "stream",
          "text": [
            "                              ARMA Model Results                              \n",
            "==============================================================================\n",
            "Dep. Variable:                   Spot   No. Observations:                 1096\n",
            "Model:                     ARMA(2, 0)   Log Likelihood                1762.693\n",
            "Method:                       css-mle   S.D. of innovations              0.048\n",
            "Date:                Tue, 16 Jun 2020   AIC                          -3517.385\n",
            "Time:                        18:05:47   BIC                          -3497.388\n",
            "Sample:                             0   HQIC                         -3509.819\n",
            "                                                                              \n",
            "==============================================================================\n",
            "                 coef    std err          z      P>|z|      [0.025      0.975]\n",
            "------------------------------------------------------------------------------\n",
            "const          3.4889      0.049     71.924      0.000       3.394       3.584\n",
            "ar.L1.Spot     0.9606      0.030     31.766      0.000       0.901       1.020\n",
            "ar.L2.Spot     0.0102      0.030      0.336      0.737      -0.049       0.070\n",
            "                                    Roots                                    \n",
            "=============================================================================\n",
            "                  Real          Imaginary           Modulus         Frequency\n",
            "-----------------------------------------------------------------------------\n",
            "AR.1            1.0298           +0.0000j            1.0298            0.0000\n",
            "AR.2          -95.2671           +0.0000j           95.2671            0.5000\n",
            "-----------------------------------------------------------------------------\n"
          ],
          "name": "stdout"
        }
      ]
    },
    {
      "cell_type": "markdown",
      "metadata": {
        "id": "JRLmx1RtWpbP",
        "colab_type": "text"
      },
      "source": [
        "Notice the results of ARMA(2,0) with higher AIC and look at the p-value of the AR.2 coefficient so not significantly different from zero - so it does not add value to the model.  "
      ]
    },
    {
      "cell_type": "code",
      "metadata": {
        "id": "Gnmlfr2wUYx9",
        "colab_type": "code",
        "colab": {
          "base_uri": "https://localhost:8080/",
          "height": 437
        },
        "outputId": "c1cec0b7-ba39-47f5-9ee2-b352aab650f9"
      },
      "source": [
        "print(results_AR3.summary())\n"
      ],
      "execution_count": 68,
      "outputs": [
        {
          "output_type": "stream",
          "text": [
            "                              ARMA Model Results                              \n",
            "==============================================================================\n",
            "Dep. Variable:                   Spot   No. Observations:                 1096\n",
            "Model:                     ARMA(3, 0)   Log Likelihood                1762.733\n",
            "Method:                       css-mle   S.D. of innovations              0.048\n",
            "Date:                Tue, 16 Jun 2020   AIC                          -3515.466\n",
            "Time:                        18:05:47   BIC                          -3490.469\n",
            "Sample:                             0   HQIC                         -3506.008\n",
            "                                                                              \n",
            "==============================================================================\n",
            "                 coef    std err          z      P>|z|      [0.025      0.975]\n",
            "------------------------------------------------------------------------------\n",
            "const          3.4890      0.049     71.325      0.000       3.393       3.585\n",
            "ar.L1.Spot     0.9605      0.030     31.763      0.000       0.901       1.020\n",
            "ar.L2.Spot     0.0019      0.042      0.046      0.963      -0.080       0.084\n",
            "ar.L3.Spot     0.0086      0.030      0.284      0.776      -0.051       0.068\n",
            "                                    Roots                                    \n",
            "=============================================================================\n",
            "                  Real          Imaginary           Modulus         Frequency\n",
            "-----------------------------------------------------------------------------\n",
            "AR.1            1.0293           -0.0000j            1.0293           -0.0000\n",
            "AR.2           -0.6268          -10.6047j           10.6232           -0.2594\n",
            "AR.3           -0.6268          +10.6047j           10.6232            0.2594\n",
            "-----------------------------------------------------------------------------\n"
          ],
          "name": "stdout"
        }
      ]
    },
    {
      "cell_type": "code",
      "metadata": {
        "id": "ovj1I9umVjYQ",
        "colab_type": "code",
        "colab": {
          "base_uri": "https://localhost:8080/",
          "height": 472
        },
        "outputId": "fdac362a-1b61-43fd-843b-bd502a0333ca"
      },
      "source": [
        "print(results_AR4.summary())"
      ],
      "execution_count": 69,
      "outputs": [
        {
          "output_type": "stream",
          "text": [
            "                              ARMA Model Results                              \n",
            "==============================================================================\n",
            "Dep. Variable:                   Spot   No. Observations:                 1096\n",
            "Model:                     ARMA(4, 0)   Log Likelihood                1764.361\n",
            "Method:                       css-mle   S.D. of innovations              0.048\n",
            "Date:                Tue, 16 Jun 2020   AIC                          -3516.721\n",
            "Time:                        18:05:47   BIC                          -3486.725\n",
            "Sample:                             0   HQIC                         -3505.372\n",
            "                                                                              \n",
            "==============================================================================\n",
            "                 coef    std err          z      P>|z|      [0.025      0.975]\n",
            "------------------------------------------------------------------------------\n",
            "const          3.4886      0.046     75.095      0.000       3.398       3.580\n",
            "ar.L1.Spot     0.9607      0.030     31.817      0.000       0.902       1.020\n",
            "ar.L2.Spot     0.0023      0.042      0.056      0.955      -0.080       0.084\n",
            "ar.L3.Spot     0.0611      0.042      1.457      0.145      -0.021       0.143\n",
            "ar.L4.Spot    -0.0548      0.030     -1.806      0.071      -0.114       0.005\n",
            "                                    Roots                                    \n",
            "=============================================================================\n",
            "                  Real          Imaginary           Modulus         Frequency\n",
            "-----------------------------------------------------------------------------\n",
            "AR.1            1.0331           -0.0000j            1.0331           -0.0000\n",
            "AR.2           -1.2832           -2.2417j            2.5829           -0.3327\n",
            "AR.3           -1.2832           +2.2417j            2.5829            0.3327\n",
            "AR.4            2.6500           -0.0000j            2.6500           -0.0000\n",
            "-----------------------------------------------------------------------------\n"
          ],
          "name": "stdout"
        }
      ]
    },
    {
      "cell_type": "markdown",
      "metadata": {
        "id": "oH7Vnl1GXQq-",
        "colab_type": "text"
      },
      "source": [
        " If we include too many variables we run the risk of overfitting the model\n",
        "\n",
        " The LLR Test will help us determine the value of higher order regressions"
      ]
    },
    {
      "cell_type": "code",
      "metadata": {
        "id": "z3Y-oKb8Yxvq",
        "colab_type": "code",
        "colab": {
          "base_uri": "https://localhost:8080/",
          "height": 507
        },
        "outputId": "c986f232-e614-4ad3-d596-ff0950947e91"
      },
      "source": [
        "print(results_AR5.summary())"
      ],
      "execution_count": 70,
      "outputs": [
        {
          "output_type": "stream",
          "text": [
            "                              ARMA Model Results                              \n",
            "==============================================================================\n",
            "Dep. Variable:                   Spot   No. Observations:                 1096\n",
            "Model:                     ARMA(5, 0)   Log Likelihood                1764.402\n",
            "Method:                       css-mle   S.D. of innovations              0.048\n",
            "Date:                Tue, 16 Jun 2020   AIC                          -3514.803\n",
            "Time:                        18:05:47   BIC                          -3479.807\n",
            "Sample:                             0   HQIC                         -3501.562\n",
            "                                                                              \n",
            "==============================================================================\n",
            "                 coef    std err          z      P>|z|      [0.025      0.975]\n",
            "------------------------------------------------------------------------------\n",
            "const          3.4886      0.047     74.487      0.000       3.397       3.580\n",
            "ar.L1.Spot     0.9612      0.030     31.785      0.000       0.902       1.020\n",
            "ar.L2.Spot     0.0018      0.042      0.044      0.965      -0.080       0.084\n",
            "ar.L3.Spot     0.0611      0.042      1.455      0.146      -0.021       0.143\n",
            "ar.L4.Spot    -0.0631      0.042     -1.501      0.134      -0.145       0.019\n",
            "ar.L5.Spot     0.0087      0.030      0.286      0.775      -0.051       0.068\n",
            "                                    Roots                                    \n",
            "=============================================================================\n",
            "                  Real          Imaginary           Modulus         Frequency\n",
            "-----------------------------------------------------------------------------\n",
            "AR.1            1.0324           -0.0000j            1.0324           -0.0000\n",
            "AR.2           -1.3653           -1.9801j            2.4051           -0.3461\n",
            "AR.3           -1.3653           +1.9801j            2.4051            0.3461\n",
            "AR.4            3.5875           -0.0000j            3.5875           -0.0000\n",
            "AR.5            5.3807           -0.0000j            5.3807           -0.0000\n",
            "-----------------------------------------------------------------------------\n"
          ],
          "name": "stdout"
        }
      ]
    },
    {
      "cell_type": "code",
      "metadata": {
        "id": "_KrUsqgfaMuE",
        "colab_type": "code",
        "colab": {
          "base_uri": "https://localhost:8080/",
          "height": 542
        },
        "outputId": "3fef8a53-c2e8-4cfb-dd09-43fc70793f39"
      },
      "source": [
        "print(results_AR6.summary())"
      ],
      "execution_count": 71,
      "outputs": [
        {
          "output_type": "stream",
          "text": [
            "                              ARMA Model Results                              \n",
            "==============================================================================\n",
            "Dep. Variable:                   Spot   No. Observations:                 1096\n",
            "Model:                     ARMA(6, 0)   Log Likelihood                1765.199\n",
            "Method:                       css-mle   S.D. of innovations              0.048\n",
            "Date:                Tue, 16 Jun 2020   AIC                          -3514.397\n",
            "Time:                        18:05:47   BIC                          -3474.402\n",
            "Sample:                             0   HQIC                         -3499.264\n",
            "                                                                              \n",
            "==============================================================================\n",
            "                 coef    std err          z      P>|z|      [0.025      0.975]\n",
            "------------------------------------------------------------------------------\n",
            "const          3.4890      0.049     71.829      0.000       3.394       3.584\n",
            "ar.L1.Spot     0.9607      0.030     31.791      0.000       0.901       1.020\n",
            "ar.L2.Spot     0.0044      0.042      0.106      0.916      -0.078       0.087\n",
            "ar.L3.Spot     0.0590      0.042      1.406      0.160      -0.023       0.141\n",
            "ar.L4.Spot    -0.0635      0.042     -1.512      0.131      -0.146       0.019\n",
            "ar.L5.Spot    -0.0281      0.042     -0.669      0.504      -0.111       0.054\n",
            "ar.L6.Spot     0.0383      0.030      1.263      0.207      -0.021       0.098\n",
            "                                    Roots                                    \n",
            "=============================================================================\n",
            "                  Real          Imaginary           Modulus         Frequency\n",
            "-----------------------------------------------------------------------------\n",
            "AR.1            1.0296           -0.0000j            1.0296           -0.0000\n",
            "AR.2           -2.1400           -0.0000j            2.1400           -0.5000\n",
            "AR.3           -0.6736           -1.6685j            1.7993           -0.3111\n",
            "AR.4           -0.6736           +1.6685j            1.7993            0.3111\n",
            "AR.5            1.5954           -1.0537j            1.9120           -0.0929\n",
            "AR.6            1.5954           +1.0537j            1.9120            0.0929\n",
            "-----------------------------------------------------------------------------\n"
          ],
          "name": "stdout"
        }
      ]
    },
    {
      "cell_type": "code",
      "metadata": {
        "id": "TO0aSCjXaSQS",
        "colab_type": "code",
        "colab": {
          "base_uri": "https://localhost:8080/",
          "height": 577
        },
        "outputId": "1145291f-1eae-4997-df90-92e83d2a6226"
      },
      "source": [
        "print(results_AR7.summary())"
      ],
      "execution_count": 72,
      "outputs": [
        {
          "output_type": "stream",
          "text": [
            "                              ARMA Model Results                              \n",
            "==============================================================================\n",
            "Dep. Variable:                   Spot   No. Observations:                 1096\n",
            "Model:                     ARMA(7, 0)   Log Likelihood                1765.501\n",
            "Method:                       css-mle   S.D. of innovations              0.048\n",
            "Date:                Tue, 16 Jun 2020   AIC                          -3513.003\n",
            "Time:                        18:05:48   BIC                          -3468.008\n",
            "Sample:                             0   HQIC                         -3495.978\n",
            "                                                                              \n",
            "==============================================================================\n",
            "                 coef    std err          z      P>|z|      [0.025      0.975]\n",
            "------------------------------------------------------------------------------\n",
            "const          3.4893      0.050     70.239      0.000       3.392       3.587\n",
            "ar.L1.Spot     0.9598      0.030     31.747      0.000       0.901       1.019\n",
            "ar.L2.Spot     0.0050      0.042      0.120      0.905      -0.077       0.087\n",
            "ar.L3.Spot     0.0605      0.042      1.442      0.150      -0.022       0.143\n",
            "ar.L4.Spot    -0.0647      0.042     -1.541      0.124      -0.147       0.018\n",
            "ar.L5.Spot    -0.0284      0.042     -0.676      0.499      -0.111       0.054\n",
            "ar.L6.Spot     0.0157      0.042      0.373      0.710      -0.067       0.098\n",
            "ar.L7.Spot     0.0237      0.030      0.778      0.437      -0.036       0.083\n",
            "                                    Roots                                    \n",
            "=============================================================================\n",
            "                  Real          Imaginary           Modulus         Frequency\n",
            "-----------------------------------------------------------------------------\n",
            "AR.1            1.0280           -0.0000j            1.0280           -0.0000\n",
            "AR.2            1.4196           -0.8652j            1.6625           -0.0871\n",
            "AR.3            1.4196           +0.8652j            1.6625            0.0871\n",
            "AR.4           -0.3643           -1.7440j            1.7816           -0.2828\n",
            "AR.5           -0.3643           +1.7440j            1.7816            0.2828\n",
            "AR.6           -1.9006           -1.0375j            2.1653           -0.4205\n",
            "AR.7           -1.9006           +1.0375j            2.1653            0.4205\n",
            "-----------------------------------------------------------------------------\n"
          ],
          "name": "stdout"
        }
      ]
    },
    {
      "cell_type": "markdown",
      "metadata": {
        "id": "tyfsF9YLa4vD",
        "colab_type": "text"
      },
      "source": [
        "### Analyse the Residuals"
      ]
    },
    {
      "cell_type": "code",
      "metadata": {
        "id": "h1hVKnM6bAlN",
        "colab_type": "code",
        "colab": {}
      },
      "source": [
        "df_training['residuals'] = results_AR.resid"
      ],
      "execution_count": 73,
      "outputs": []
    },
    {
      "cell_type": "code",
      "metadata": {
        "id": "pozgFGZ6bKSb",
        "colab_type": "code",
        "colab": {
          "base_uri": "https://localhost:8080/",
          "height": 450
        },
        "outputId": "a436d3ed-f3a2-4f37-d19b-390fd4892145"
      },
      "source": [
        "df_training"
      ],
      "execution_count": 74,
      "outputs": [
        {
          "output_type": "execute_result",
          "data": {
            "text/html": [
              "<div>\n",
              "<style scoped>\n",
              "    .dataframe tbody tr th:only-of-type {\n",
              "        vertical-align: middle;\n",
              "    }\n",
              "\n",
              "    .dataframe tbody tr th {\n",
              "        vertical-align: top;\n",
              "    }\n",
              "\n",
              "    .dataframe thead th {\n",
              "        text-align: right;\n",
              "    }\n",
              "</style>\n",
              "<table border=\"1\" class=\"dataframe\">\n",
              "  <thead>\n",
              "    <tr style=\"text-align: right;\">\n",
              "      <th></th>\n",
              "      <th>Spot</th>\n",
              "      <th>residuals</th>\n",
              "    </tr>\n",
              "    <tr>\n",
              "      <th>Date</th>\n",
              "      <th></th>\n",
              "      <th></th>\n",
              "    </tr>\n",
              "  </thead>\n",
              "  <tbody>\n",
              "    <tr>\n",
              "      <th>2015-01-02</th>\n",
              "      <td>3.74</td>\n",
              "      <td>0.251158</td>\n",
              "    </tr>\n",
              "    <tr>\n",
              "      <th>2015-01-05</th>\n",
              "      <td>3.84</td>\n",
              "      <td>0.107425</td>\n",
              "    </tr>\n",
              "    <tr>\n",
              "      <th>2015-01-06</th>\n",
              "      <td>3.83</td>\n",
              "      <td>0.000381</td>\n",
              "    </tr>\n",
              "    <tr>\n",
              "      <th>2015-01-07</th>\n",
              "      <td>3.74</td>\n",
              "      <td>-0.079914</td>\n",
              "    </tr>\n",
              "    <tr>\n",
              "      <th>2015-01-08</th>\n",
              "      <td>3.72</td>\n",
              "      <td>-0.012575</td>\n",
              "    </tr>\n",
              "    <tr>\n",
              "      <th>...</th>\n",
              "      <td>...</td>\n",
              "      <td>...</td>\n",
              "    </tr>\n",
              "    <tr>\n",
              "      <th>2019-05-07</th>\n",
              "      <td>3.43</td>\n",
              "      <td>0.027374</td>\n",
              "    </tr>\n",
              "    <tr>\n",
              "      <th>2019-05-08</th>\n",
              "      <td>3.40</td>\n",
              "      <td>-0.031740</td>\n",
              "    </tr>\n",
              "    <tr>\n",
              "      <th>2019-05-09</th>\n",
              "      <td>3.29</td>\n",
              "      <td>-0.112626</td>\n",
              "    </tr>\n",
              "    <tr>\n",
              "      <th>2019-05-10</th>\n",
              "      <td>3.28</td>\n",
              "      <td>-0.015878</td>\n",
              "    </tr>\n",
              "    <tr>\n",
              "      <th>2019-05-13</th>\n",
              "      <td>3.33</td>\n",
              "      <td>0.043826</td>\n",
              "    </tr>\n",
              "  </tbody>\n",
              "</table>\n",
              "<p>1096 rows × 2 columns</p>\n",
              "</div>"
            ],
            "text/plain": [
              "            Spot  residuals\n",
              "Date                       \n",
              "2015-01-02  3.74   0.251158\n",
              "2015-01-05  3.84   0.107425\n",
              "2015-01-06  3.83   0.000381\n",
              "2015-01-07  3.74  -0.079914\n",
              "2015-01-08  3.72  -0.012575\n",
              "...          ...        ...\n",
              "2019-05-07  3.43   0.027374\n",
              "2019-05-08  3.40  -0.031740\n",
              "2019-05-09  3.29  -0.112626\n",
              "2019-05-10  3.28  -0.015878\n",
              "2019-05-13  3.33   0.043826\n",
              "\n",
              "[1096 rows x 2 columns]"
            ]
          },
          "metadata": {
            "tags": []
          },
          "execution_count": 74
        }
      ]
    },
    {
      "cell_type": "markdown",
      "metadata": {
        "id": "HfnvPIvfbjSl",
        "colab_type": "text"
      },
      "source": [
        "Let's check the mean, variance and stationarity of the residuals"
      ]
    },
    {
      "cell_type": "code",
      "metadata": {
        "id": "c2i2vw_4bONN",
        "colab_type": "code",
        "colab": {
          "base_uri": "https://localhost:8080/",
          "height": 34
        },
        "outputId": "bc61904d-efdd-405b-e773-278aeadf72c1"
      },
      "source": [
        "df_training.residuals.mean()"
      ],
      "execution_count": 75,
      "outputs": [
        {
          "output_type": "execute_result",
          "data": {
            "text/plain": [
              "-0.00022238435880516253"
            ]
          },
          "metadata": {
            "tags": []
          },
          "execution_count": 75
        }
      ]
    },
    {
      "cell_type": "code",
      "metadata": {
        "id": "uofHOgZHbSbF",
        "colab_type": "code",
        "colab": {
          "base_uri": "https://localhost:8080/",
          "height": 69
        },
        "outputId": "1ba116ca-4753-467f-ff4c-2b7a99ba7c8c"
      },
      "source": [
        "df_training.var()"
      ],
      "execution_count": 76,
      "outputs": [
        {
          "output_type": "execute_result",
          "data": {
            "text/plain": [
              "Spot         0.040108\n",
              "residuals    0.002398\n",
              "dtype: float64"
            ]
          },
          "metadata": {
            "tags": []
          },
          "execution_count": 76
        }
      ]
    },
    {
      "cell_type": "code",
      "metadata": {
        "id": "oF_4hhfebShl",
        "colab_type": "code",
        "colab": {
          "base_uri": "https://localhost:8080/",
          "height": 157
        },
        "outputId": "f869f68f-5931-47ab-e5e2-764e545ab4d1"
      },
      "source": [
        "sts.adfuller(df_training.residuals)"
      ],
      "execution_count": 77,
      "outputs": [
        {
          "output_type": "execute_result",
          "data": {
            "text/plain": [
              "(-18.570577213371873,\n",
              " 2.082781814759833e-30,\n",
              " 2,\n",
              " 1093,\n",
              " {'1%': -3.4363470029475525,\n",
              "  '10%': -2.568179853605536,\n",
              "  '5%': -2.864187948086107},\n",
              " -3468.8790776622845)"
            ]
          },
          "metadata": {
            "tags": []
          },
          "execution_count": 77
        }
      ]
    },
    {
      "cell_type": "code",
      "metadata": {
        "id": "xaLnFDVAbSk6",
        "colab_type": "code",
        "colab": {
          "base_uri": "https://localhost:8080/",
          "height": 289
        },
        "outputId": "1d5b1aeb-d2e2-4cbc-8bd0-a392e322a424"
      },
      "source": [
        "sgt.plot_acf(df_training.residuals, zero=False, lags=40)\n",
        "plt.title(\"ACF of Residuals for Corn Spot Price Model\", size=20)\n",
        "plt.show()"
      ],
      "execution_count": 78,
      "outputs": [
        {
          "output_type": "display_data",
          "data": {
            "image/png": "[encoded data removed]",
            "text/plain": [
              "<Figure size 432x288 with 1 Axes>"
            ]
          },
          "metadata": {
            "tags": [],
            "needs_background": "light"
          }
        }
      ]
    },
    {
      "cell_type": "code",
      "metadata": {
        "id": "Ap_DbxegbSny",
        "colab_type": "code",
        "colab": {
          "base_uri": "https://localhost:8080/",
          "height": 403
        },
        "outputId": "c5b751bd-36c3-47f4-ad2b-efc15d5764ae"
      },
      "source": [
        "df_training.residuals[1:].plot(figsize=(12,6))\n",
        "plt.title(\"Residuals of Corn Spot Price Model\",size=18)\n",
        "plt.show()"
      ],
      "execution_count": 79,
      "outputs": [
        {
          "output_type": "display_data",
          "data": {
            "image/png": "[encoded data removed]",
            "text/plain": [
              "<Figure size 864x432 with 1 Axes>"
            ]
          },
          "metadata": {
            "tags": [],
            "needs_background": "light"
          }
        }
      ]
    },
    {
      "cell_type": "code",
      "metadata": {
        "id": "NfWWyBBPcvao",
        "colab_type": "code",
        "colab": {}
      },
      "source": [
        ""
      ],
      "execution_count": 79,
      "outputs": []
    },
    {
      "cell_type": "markdown",
      "metadata": {
        "id": "lteCMztqdiKH",
        "colab_type": "text"
      },
      "source": [
        "### Returns not Prices\n",
        "\n",
        "For non-stationary TS, we can apply first differencing by using daily returns instead of prices. \n",
        "\n",
        "Assuming the Corn Prices series was non-stationary (inflation, compounding etc.)"
      ]
    },
    {
      "cell_type": "code",
      "metadata": {
        "id": "jNl1fb2FTXMf",
        "colab_type": "code",
        "colab": {}
      },
      "source": [
        ""
      ],
      "execution_count": 79,
      "outputs": []
    },
    {
      "cell_type": "code",
      "metadata": {
        "id": "-FT0Hv_jd-MK",
        "colab_type": "code",
        "colab": {}
      },
      "source": [
        "df_training['daily_return'] = df_training.Spot.pct_change(1).mul(100)\n",
        "df_training.daily_return = df_training.daily_return.fillna(method='bfill')"
      ],
      "execution_count": 80,
      "outputs": []
    },
    {
      "cell_type": "code",
      "metadata": {
        "id": "uUSOqw8KegtJ",
        "colab_type": "code",
        "colab": {
          "base_uri": "https://localhost:8080/",
          "height": 235
        },
        "outputId": "964803d1-345a-487c-c4a0-47d9b406c2c0"
      },
      "source": [
        "df_training.head()"
      ],
      "execution_count": 81,
      "outputs": [
        {
          "output_type": "execute_result",
          "data": {
            "text/html": [
              "<div>\n",
              "<style scoped>\n",
              "    .dataframe tbody tr th:only-of-type {\n",
              "        vertical-align: middle;\n",
              "    }\n",
              "\n",
              "    .dataframe tbody tr th {\n",
              "        vertical-align: top;\n",
              "    }\n",
              "\n",
              "    .dataframe thead th {\n",
              "        text-align: right;\n",
              "    }\n",
              "</style>\n",
              "<table border=\"1\" class=\"dataframe\">\n",
              "  <thead>\n",
              "    <tr style=\"text-align: right;\">\n",
              "      <th></th>\n",
              "      <th>Spot</th>\n",
              "      <th>residuals</th>\n",
              "      <th>daily_return</th>\n",
              "    </tr>\n",
              "    <tr>\n",
              "      <th>Date</th>\n",
              "      <th></th>\n",
              "      <th></th>\n",
              "      <th></th>\n",
              "    </tr>\n",
              "  </thead>\n",
              "  <tbody>\n",
              "    <tr>\n",
              "      <th>2015-01-02</th>\n",
              "      <td>3.74</td>\n",
              "      <td>0.251158</td>\n",
              "      <td>2.673797</td>\n",
              "    </tr>\n",
              "    <tr>\n",
              "      <th>2015-01-05</th>\n",
              "      <td>3.84</td>\n",
              "      <td>0.107425</td>\n",
              "      <td>2.673797</td>\n",
              "    </tr>\n",
              "    <tr>\n",
              "      <th>2015-01-06</th>\n",
              "      <td>3.83</td>\n",
              "      <td>0.000381</td>\n",
              "      <td>-0.260417</td>\n",
              "    </tr>\n",
              "    <tr>\n",
              "      <th>2015-01-07</th>\n",
              "      <td>3.74</td>\n",
              "      <td>-0.079914</td>\n",
              "      <td>-2.349869</td>\n",
              "    </tr>\n",
              "    <tr>\n",
              "      <th>2015-01-08</th>\n",
              "      <td>3.72</td>\n",
              "      <td>-0.012575</td>\n",
              "      <td>-0.534759</td>\n",
              "    </tr>\n",
              "  </tbody>\n",
              "</table>\n",
              "</div>"
            ],
            "text/plain": [
              "            Spot  residuals  daily_return\n",
              "Date                                     \n",
              "2015-01-02  3.74   0.251158      2.673797\n",
              "2015-01-05  3.84   0.107425      2.673797\n",
              "2015-01-06  3.83   0.000381     -0.260417\n",
              "2015-01-07  3.74  -0.079914     -2.349869\n",
              "2015-01-08  3.72  -0.012575     -0.534759"
            ]
          },
          "metadata": {
            "tags": []
          },
          "execution_count": 81
        }
      ]
    },
    {
      "cell_type": "markdown",
      "metadata": {
        "id": "FZzCI9MeixVL",
        "colab_type": "text"
      },
      "source": [
        "### Check for stationarity and plot the ACF and PACF"
      ]
    },
    {
      "cell_type": "code",
      "metadata": {
        "id": "w8vMTwrgfSxB",
        "colab_type": "code",
        "colab": {
          "base_uri": "https://localhost:8080/",
          "height": 157
        },
        "outputId": "fc9b3e29-4a2a-4149-eb45-853ec6f93cc5"
      },
      "source": [
        "# Dickey Fuller - we expect high test stat and low p-value\n",
        "\n",
        "sts.adfuller(df_training.daily_return)"
      ],
      "execution_count": 82,
      "outputs": [
        {
          "output_type": "execute_result",
          "data": {
            "text/plain": [
              "(-33.902374736946705,\n",
              " 0.0,\n",
              " 0,\n",
              " 1095,\n",
              " {'1%': -3.436336023678866,\n",
              "  '10%': -2.568177274243656,\n",
              "  '5%': -2.8641831050780513},\n",
              " 3724.9210574902704)"
            ]
          },
          "metadata": {
            "tags": []
          },
          "execution_count": 82
        }
      ]
    },
    {
      "cell_type": "code",
      "metadata": {
        "id": "yOJ1qgNkhx1D",
        "colab_type": "code",
        "colab": {
          "base_uri": "https://localhost:8080/",
          "height": 288
        },
        "outputId": "53580ce1-22fa-4fe4-db50-2f8789d1ed26"
      },
      "source": [
        "sgt.plot_acf(df_training.daily_return, lags=40, zero = False)\n",
        "plt.title(\"ACF Corn Spot Daily Returns\", size=18)\n",
        "plt.show()"
      ],
      "execution_count": 83,
      "outputs": [
        {
          "output_type": "display_data",
          "data": {
            "image/png": "[encoded data removed]",
            "text/plain": [
              "<Figure size 432x288 with 1 Axes>"
            ]
          },
          "metadata": {
            "tags": [],
            "needs_background": "light"
          }
        }
      ]
    },
    {
      "cell_type": "code",
      "metadata": {
        "id": "11sPPwy1i0u5",
        "colab_type": "code",
        "colab": {
          "base_uri": "https://localhost:8080/",
          "height": 288
        },
        "outputId": "ba6cf0d4-69a8-4332-e8aa-1a0552ae118d"
      },
      "source": [
        "sgt.plot_pacf(df_training.daily_return, lags = 40, zero = False, method = ('ols'))\n",
        "plt.title(\"PACF Corn Spot Daily Returns\", size=18)\n",
        "plt.show()"
      ],
      "execution_count": 84,
      "outputs": [
        {
          "output_type": "display_data",
          "data": {
            "image/png": "[encoded data removed]",
            "text/plain": [
              "<Figure size 432x288 with 1 Axes>"
            ]
          },
          "metadata": {
            "tags": [],
            "needs_background": "light"
          }
        }
      ]
    },
    {
      "cell_type": "markdown",
      "metadata": {
        "id": "iveCoL-FlHJQ",
        "colab_type": "text"
      },
      "source": [
        "### Building our Models\n",
        "\n",
        "Here are a number of models to compare AICs "
      ]
    },
    {
      "cell_type": "code",
      "metadata": {
        "id": "ypz22unVkF_J",
        "colab_type": "code",
        "colab": {}
      },
      "source": [
        "model_Returns_AR1 = ARMA(df_training.daily_return, order=(1,0))\n",
        "model_Returns_AR2 = ARMA(df_training.daily_return, order=(2,0))\n",
        "model_Returns_AR3 = ARMA(df_training.daily_return, order=(3,0))\n",
        "model_Returns_AR4 = ARMA(df_training.daily_return, order=(4,0))\n",
        "model_Returns_AR5 = ARMA(df_training.daily_return, order=(5,0))\n",
        "model_Returns_AR6 = ARMA(df_training.daily_return, order=(6,0))\n",
        "model_Returns_AR7 = ARMA(df_training.daily_return, order=(7,0))\n",
        "results_Return_AR1 = model_Returns_AR1.fit()\n",
        "results_Return_AR2 = model_Returns_AR2.fit()\n",
        "results_Return_AR3 = model_Returns_AR3.fit()\n",
        "results_Return_AR4 = model_Returns_AR4.fit()\n",
        "results_Return_AR5 = model_Returns_AR5.fit()\n",
        "results_Return_AR6 = model_Returns_AR6.fit()\n",
        "results_Return_AR7 = model_Returns_AR7.fit()\n"
      ],
      "execution_count": 85,
      "outputs": []
    },
    {
      "cell_type": "code",
      "metadata": {
        "id": "lmImVQRkkFoJ",
        "colab_type": "code",
        "colab": {
          "base_uri": "https://localhost:8080/",
          "height": 367
        },
        "outputId": "7f23bcb2-6737-4d2a-b7d6-142282c05dfa"
      },
      "source": [
        "print(results_Return_AR1.summary())"
      ],
      "execution_count": 86,
      "outputs": [
        {
          "output_type": "stream",
          "text": [
            "                              ARMA Model Results                              \n",
            "==============================================================================\n",
            "Dep. Variable:           daily_return   No. Observations:                 1096\n",
            "Model:                     ARMA(1, 0)   Log Likelihood               -1909.636\n",
            "Method:                       css-mle   S.D. of innovations              1.382\n",
            "Date:                Tue, 16 Jun 2020   AIC                           3825.271\n",
            "Time:                        18:05:52   BIC                           3840.270\n",
            "Sample:                             0   HQIC                          3830.946\n",
            "                                                                              \n",
            "======================================================================================\n",
            "                         coef    std err          z      P>|z|      [0.025      0.975]\n",
            "--------------------------------------------------------------------------------------\n",
            "const                  0.0013      0.041      0.032      0.975      -0.079       0.081\n",
            "ar.L1.daily_return    -0.0240      0.030     -0.795      0.427      -0.083       0.035\n",
            "                                    Roots                                    \n",
            "=============================================================================\n",
            "                  Real          Imaginary           Modulus         Frequency\n",
            "-----------------------------------------------------------------------------\n",
            "AR.1          -41.5930           +0.0000j           41.5930            0.5000\n",
            "-----------------------------------------------------------------------------\n"
          ],
          "name": "stdout"
        }
      ]
    },
    {
      "cell_type": "code",
      "metadata": {
        "id": "7ozOBUxpjcfI",
        "colab_type": "code",
        "colab": {
          "base_uri": "https://localhost:8080/",
          "height": 402
        },
        "outputId": "856af40c-650e-4983-fa16-14b96adc6455"
      },
      "source": [
        "print(results_Return_AR2.summary())"
      ],
      "execution_count": 87,
      "outputs": [
        {
          "output_type": "stream",
          "text": [
            "                              ARMA Model Results                              \n",
            "==============================================================================\n",
            "Dep. Variable:           daily_return   No. Observations:                 1096\n",
            "Model:                     ARMA(2, 0)   Log Likelihood               -1909.485\n",
            "Method:                       css-mle   S.D. of innovations              1.382\n",
            "Date:                Tue, 16 Jun 2020   AIC                           3826.970\n",
            "Time:                        18:05:52   BIC                           3846.968\n",
            "Sample:                             0   HQIC                          3834.537\n",
            "                                                                              \n",
            "======================================================================================\n",
            "                         coef    std err          z      P>|z|      [0.025      0.975]\n",
            "--------------------------------------------------------------------------------------\n",
            "const                  0.0012      0.040      0.030      0.976      -0.077       0.080\n",
            "ar.L1.daily_return    -0.0245      0.030     -0.810      0.418      -0.084       0.035\n",
            "ar.L2.daily_return    -0.0166      0.030     -0.549      0.583      -0.076       0.043\n",
            "                                    Roots                                    \n",
            "=============================================================================\n",
            "                  Real          Imaginary           Modulus         Frequency\n",
            "-----------------------------------------------------------------------------\n",
            "AR.1           -0.7363           -7.7181j            7.7532           -0.2651\n",
            "AR.2           -0.7363           +7.7181j            7.7532            0.2651\n",
            "-----------------------------------------------------------------------------\n"
          ],
          "name": "stdout"
        }
      ]
    },
    {
      "cell_type": "code",
      "metadata": {
        "id": "oaorx41akbIR",
        "colab_type": "code",
        "colab": {
          "base_uri": "https://localhost:8080/",
          "height": 437
        },
        "outputId": "41b17831-87f9-42b9-8d5e-a3bd9b750964"
      },
      "source": [
        "print(results_Return_AR3.summary())"
      ],
      "execution_count": 88,
      "outputs": [
        {
          "output_type": "stream",
          "text": [
            "                              ARMA Model Results                              \n",
            "==============================================================================\n",
            "Dep. Variable:           daily_return   No. Observations:                 1096\n",
            "Model:                     ARMA(3, 0)   Log Likelihood               -1909.048\n",
            "Method:                       css-mle   S.D. of innovations              1.381\n",
            "Date:                Tue, 16 Jun 2020   AIC                           3828.096\n",
            "Time:                        18:05:52   BIC                           3853.093\n",
            "Sample:                             0   HQIC                          3837.554\n",
            "                                                                              \n",
            "======================================================================================\n",
            "                         coef    std err          z      P>|z|      [0.025      0.975]\n",
            "--------------------------------------------------------------------------------------\n",
            "const                  0.0013      0.041      0.031      0.975      -0.080       0.082\n",
            "ar.L1.daily_return    -0.0241      0.030     -0.797      0.426      -0.083       0.035\n",
            "ar.L2.daily_return    -0.0158      0.030     -0.523      0.601      -0.075       0.044\n",
            "ar.L3.daily_return     0.0284      0.030      0.935      0.350      -0.031       0.088\n",
            "                                    Roots                                    \n",
            "=============================================================================\n",
            "                  Real          Imaginary           Modulus         Frequency\n",
            "-----------------------------------------------------------------------------\n",
            "AR.1           -1.5041           -2.7600j            3.1432           -0.3294\n",
            "AR.2           -1.5041           +2.7600j            3.1432            0.3294\n",
            "AR.3            3.5665           -0.0000j            3.5665           -0.0000\n",
            "-----------------------------------------------------------------------------\n"
          ],
          "name": "stdout"
        }
      ]
    },
    {
      "cell_type": "code",
      "metadata": {
        "id": "d_ImLEtZmcAx",
        "colab_type": "code",
        "colab": {
          "base_uri": "https://localhost:8080/",
          "height": 472
        },
        "outputId": "d418e5b5-394a-4ec1-9250-c462d09961c0"
      },
      "source": [
        "print(results_Return_AR4.summary())"
      ],
      "execution_count": 89,
      "outputs": [
        {
          "output_type": "stream",
          "text": [
            "                              ARMA Model Results                              \n",
            "==============================================================================\n",
            "Dep. Variable:           daily_return   No. Observations:                 1096\n",
            "Model:                     ARMA(4, 0)   Log Likelihood               -1908.477\n",
            "Method:                       css-mle   S.D. of innovations              1.380\n",
            "Date:                Tue, 16 Jun 2020   AIC                           3828.954\n",
            "Time:                        18:05:52   BIC                           3858.950\n",
            "Sample:                             0   HQIC                          3840.304\n",
            "                                                                              \n",
            "======================================================================================\n",
            "                         coef    std err          z      P>|z|      [0.025      0.975]\n",
            "--------------------------------------------------------------------------------------\n",
            "const                  0.0013      0.040      0.032      0.974      -0.077       0.080\n",
            "ar.L1.daily_return    -0.0231      0.030     -0.762      0.446      -0.082       0.036\n",
            "ar.L2.daily_return    -0.0162      0.030     -0.534      0.593      -0.076       0.043\n",
            "ar.L3.daily_return     0.0274      0.030      0.904      0.366      -0.032       0.087\n",
            "ar.L4.daily_return    -0.0325      0.030     -1.069      0.285      -0.092       0.027\n",
            "                                    Roots                                    \n",
            "=============================================================================\n",
            "                  Real          Imaginary           Modulus         Frequency\n",
            "-----------------------------------------------------------------------------\n",
            "AR.1           -1.4396           -1.6469j            2.1874           -0.3643\n",
            "AR.2           -1.4396           +1.6469j            2.1874            0.3643\n",
            "AR.3            1.8619           -1.7228j            2.5367           -0.1188\n",
            "AR.4            1.8619           +1.7228j            2.5367            0.1188\n",
            "-----------------------------------------------------------------------------\n"
          ],
          "name": "stdout"
        }
      ]
    },
    {
      "cell_type": "code",
      "metadata": {
        "id": "_L48Fv-cmhGb",
        "colab_type": "code",
        "colab": {
          "base_uri": "https://localhost:8080/",
          "height": 507
        },
        "outputId": "20f28169-6fd7-4fb3-f8d6-9fbe70dde795"
      },
      "source": [
        "print(results_Return_AR5.summary())"
      ],
      "execution_count": 90,
      "outputs": [
        {
          "output_type": "stream",
          "text": [
            "                              ARMA Model Results                              \n",
            "==============================================================================\n",
            "Dep. Variable:           daily_return   No. Observations:                 1096\n",
            "Model:                     ARMA(5, 0)   Log Likelihood               -1906.829\n",
            "Method:                       css-mle   S.D. of innovations              1.378\n",
            "Date:                Tue, 16 Jun 2020   AIC                           3827.658\n",
            "Time:                        18:05:52   BIC                           3862.654\n",
            "Sample:                             0   HQIC                          3840.900\n",
            "                                                                              \n",
            "======================================================================================\n",
            "                         coef    std err          z      P>|z|      [0.025      0.975]\n",
            "--------------------------------------------------------------------------------------\n",
            "const                  0.0013      0.038      0.034      0.973      -0.073       0.075\n",
            "ar.L1.daily_return    -0.0248      0.030     -0.821      0.412      -0.084       0.034\n",
            "ar.L2.daily_return    -0.0144      0.030     -0.476      0.634      -0.074       0.045\n",
            "ar.L3.daily_return     0.0269      0.030      0.888      0.375      -0.032       0.086\n",
            "ar.L4.daily_return    -0.0341      0.030     -1.122      0.262      -0.094       0.025\n",
            "ar.L5.daily_return    -0.0551      0.030     -1.817      0.070      -0.115       0.004\n",
            "                                    Roots                                    \n",
            "=============================================================================\n",
            "                  Real          Imaginary           Modulus         Frequency\n",
            "-----------------------------------------------------------------------------\n",
            "AR.1            1.3729           -1.0451j            1.7254           -0.1036\n",
            "AR.2            1.3729           +1.0451j            1.7254            0.1036\n",
            "AR.3           -0.6811           -1.6063j            1.7448           -0.3138\n",
            "AR.4           -0.6811           +1.6063j            1.7448            0.3138\n",
            "AR.5           -2.0013           -0.0000j            2.0013           -0.5000\n",
            "-----------------------------------------------------------------------------\n"
          ],
          "name": "stdout"
        }
      ]
    },
    {
      "cell_type": "code",
      "metadata": {
        "id": "BVksf2k8ml56",
        "colab_type": "code",
        "colab": {
          "base_uri": "https://localhost:8080/",
          "height": 542
        },
        "outputId": "c1e7d5bd-450b-44b9-b265-8a8ccb731bb5"
      },
      "source": [
        "print(results_Return_AR6.summary())"
      ],
      "execution_count": 91,
      "outputs": [
        {
          "output_type": "stream",
          "text": [
            "                              ARMA Model Results                              \n",
            "==============================================================================\n",
            "Dep. Variable:           daily_return   No. Observations:                 1096\n",
            "Model:                     ARMA(6, 0)   Log Likelihood               -1905.901\n",
            "Method:                       css-mle   S.D. of innovations              1.377\n",
            "Date:                Tue, 16 Jun 2020   AIC                           3827.802\n",
            "Time:                        18:05:52   BIC                           3867.797\n",
            "Sample:                             0   HQIC                          3842.935\n",
            "                                                                              \n",
            "======================================================================================\n",
            "                         coef    std err          z      P>|z|      [0.025      0.975]\n",
            "--------------------------------------------------------------------------------------\n",
            "const                  0.0013      0.036      0.035      0.972      -0.070       0.072\n",
            "ar.L1.daily_return    -0.0271      0.030     -0.897      0.370      -0.086       0.032\n",
            "ar.L2.daily_return    -0.0159      0.030     -0.526      0.599      -0.075       0.043\n",
            "ar.L3.daily_return     0.0281      0.030      0.927      0.354      -0.031       0.087\n",
            "ar.L4.daily_return    -0.0343      0.030     -1.132      0.258      -0.094       0.025\n",
            "ar.L5.daily_return    -0.0563      0.030     -1.857      0.064      -0.116       0.003\n",
            "ar.L6.daily_return    -0.0414      0.030     -1.363      0.173      -0.101       0.018\n",
            "                                    Roots                                    \n",
            "=============================================================================\n",
            "                  Real          Imaginary           Modulus         Frequency\n",
            "-----------------------------------------------------------------------------\n",
            "AR.1            1.2703           -0.8429j            1.5245           -0.0932\n",
            "AR.2            1.2703           +0.8429j            1.5245            0.0932\n",
            "AR.3           -0.2900           -1.6697j            1.6947           -0.2774\n",
            "AR.4           -0.2900           +1.6697j            1.6947            0.2774\n",
            "AR.5           -1.6600           -0.9272j            1.9014           -0.4189\n",
            "AR.6           -1.6600           +0.9272j            1.9014            0.4189\n",
            "-----------------------------------------------------------------------------\n"
          ],
          "name": "stdout"
        }
      ]
    },
    {
      "cell_type": "code",
      "metadata": {
        "id": "aTOMWbcQmohu",
        "colab_type": "code",
        "colab": {
          "base_uri": "https://localhost:8080/",
          "height": 577
        },
        "outputId": "dcbb1f8b-606d-4b60-aa31-8dd8f9b6706a"
      },
      "source": [
        "print(results_Return_AR7.summary())"
      ],
      "execution_count": 92,
      "outputs": [
        {
          "output_type": "stream",
          "text": [
            "                              ARMA Model Results                              \n",
            "==============================================================================\n",
            "Dep. Variable:           daily_return   No. Observations:                 1096\n",
            "Model:                     ARMA(7, 0)   Log Likelihood               -1905.676\n",
            "Method:                       css-mle   S.D. of innovations              1.377\n",
            "Date:                Tue, 16 Jun 2020   AIC                           3829.352\n",
            "Time:                        18:05:53   BIC                           3874.347\n",
            "Sample:                             0   HQIC                          3846.377\n",
            "                                                                              \n",
            "======================================================================================\n",
            "                         coef    std err          z      P>|z|      [0.025      0.975]\n",
            "--------------------------------------------------------------------------------------\n",
            "const                  0.0013      0.036      0.036      0.972      -0.068       0.071\n",
            "ar.L1.daily_return    -0.0280      0.030     -0.925      0.355      -0.087       0.031\n",
            "ar.L2.daily_return    -0.0171      0.030     -0.564      0.573      -0.076       0.042\n",
            "ar.L3.daily_return     0.0273      0.030      0.902      0.367      -0.032       0.087\n",
            "ar.L4.daily_return    -0.0337      0.030     -1.111      0.267      -0.093       0.026\n",
            "ar.L5.daily_return    -0.0565      0.030     -1.863      0.063      -0.116       0.003\n",
            "ar.L6.daily_return    -0.0421      0.030     -1.384      0.167      -0.102       0.018\n",
            "ar.L7.daily_return    -0.0204      0.030     -0.671      0.503      -0.080       0.039\n",
            "                                    Roots                                    \n",
            "=============================================================================\n",
            "                  Real          Imaginary           Modulus         Frequency\n",
            "-----------------------------------------------------------------------------\n",
            "AR.1            1.2464           -0.7596j            1.4596           -0.0871\n",
            "AR.2            1.2464           +0.7596j            1.4596            0.0871\n",
            "AR.3           -0.0188           -1.7728j            1.7729           -0.2517\n",
            "AR.4           -0.0188           +1.7728j            1.7729            0.2517\n",
            "AR.5           -2.0108           -0.0000j            2.0108           -0.5000\n",
            "AR.6           -1.2539           -1.4382j            1.9081           -0.3641\n",
            "AR.7           -1.2539           +1.4382j            1.9081            0.3641\n",
            "-----------------------------------------------------------------------------\n"
          ],
          "name": "stdout"
        }
      ]
    },
    {
      "cell_type": "code",
      "metadata": {
        "id": "Bxo3myB5BpaB",
        "colab_type": "code",
        "colab": {
          "base_uri": "https://localhost:8080/",
          "height": 139
        },
        "outputId": "8b7de25b-1fa3-415d-84ef-d3b6cc729a53"
      },
      "source": [
        "print(\"ARMA(1,0):  \\t LL = \", results_Return_AR1.llf, \"\\t AIC = \", results_Return_AR1.aic)\n",
        "print(\"ARMA(2,0):  \\t LL = \", results_Return_AR2.llf, \"\\t AIC = \", results_Return_AR2.aic)\n",
        "print(\"ARMA(3,0):  \\t LL = \", results_Return_AR3.llf, \"\\t AIC = \", results_Return_AR3.aic)\n",
        "print(\"ARMA(4,0):  \\t LL = \", results_Return_AR4.llf, \"\\t AIC = \", results_Return_AR4.aic)\n",
        "print(\"ARMA(5,0):  \\t LL = \", results_Return_AR5.llf, \"\\t AIC = \", results_Return_AR5.aic)\n",
        "print(\"ARMA(6,0):  \\t LL = \", results_Return_AR6.llf, \"\\t AIC = \", results_Return_AR6.aic)\n",
        "print(\"ARMA(7,0):  \\t LL = \", results_Return_AR7.llf, \"\\t AIC = \", results_Return_AR7.aic)"
      ],
      "execution_count": 93,
      "outputs": [
        {
          "output_type": "stream",
          "text": [
            "ARMA(1,0):  \t LL =  -1909.6357008594014 \t AIC =  3825.2714017188027\n",
            "ARMA(2,0):  \t LL =  -1909.4849826932343 \t AIC =  3826.9699653864686\n",
            "ARMA(3,0):  \t LL =  -1909.0480191028714 \t AIC =  3828.096038205743\n",
            "ARMA(4,0):  \t LL =  -1908.476932637765 \t AIC =  3828.95386527553\n",
            "ARMA(5,0):  \t LL =  -1906.8291300753756 \t AIC =  3827.658260150751\n",
            "ARMA(6,0):  \t LL =  -1905.901056561393 \t AIC =  3827.802113122786\n",
            "ARMA(7,0):  \t LL =  -1905.6761914202416 \t AIC =  3829.352382840483\n"
          ],
          "name": "stdout"
        }
      ]
    },
    {
      "cell_type": "markdown",
      "metadata": {
        "id": "LRuKodUwnapF",
        "colab_type": "text"
      },
      "source": [
        "### Analyse the Residuals \n",
        "\n",
        "Stationary, Mean of Zero, Resemble White Noise\n",
        "\n",
        "In our analysis above, we saw the AR(1,0) model had the lowest AIC, so we select that model\n",
        "\n",
        "\n"
      ]
    },
    {
      "cell_type": "code",
      "metadata": {
        "id": "MVrMLOuLn92s",
        "colab_type": "code",
        "colab": {}
      },
      "source": [
        "df_training['return_residuals'] = results_Return_AR1.resid"
      ],
      "execution_count": 94,
      "outputs": []
    },
    {
      "cell_type": "code",
      "metadata": {
        "id": "nIoeEn6doILa",
        "colab_type": "code",
        "colab": {
          "base_uri": "https://localhost:8080/",
          "height": 34
        },
        "outputId": "ed4fc674-ee7e-438d-b8ef-0b2f0165f576"
      },
      "source": [
        "df_training.return_residuals.mean()"
      ],
      "execution_count": 95,
      "outputs": [
        {
          "output_type": "execute_result",
          "data": {
            "text/plain": [
              "5.860073974639745e-05"
            ]
          },
          "metadata": {
            "tags": []
          },
          "execution_count": 95
        }
      ]
    },
    {
      "cell_type": "code",
      "metadata": {
        "id": "1UUUH418oRce",
        "colab_type": "code",
        "colab": {
          "base_uri": "https://localhost:8080/",
          "height": 157
        },
        "outputId": "effacae1-22f5-4f9d-ffa9-2644d01309f1"
      },
      "source": [
        "sts.adfuller(df_training.return_residuals)"
      ],
      "execution_count": 96,
      "outputs": [
        {
          "output_type": "execute_result",
          "data": {
            "text/plain": [
              "(-33.11012787677768,\n",
              " 0.0,\n",
              " 0,\n",
              " 1095,\n",
              " {'1%': -3.436336023678866,\n",
              "  '10%': -2.568177274243656,\n",
              "  '5%': -2.8641831050780513},\n",
              " 3724.919139778663)"
            ]
          },
          "metadata": {
            "tags": []
          },
          "execution_count": 96
        }
      ]
    },
    {
      "cell_type": "code",
      "metadata": {
        "id": "CCr8Biq-ovXi",
        "colab_type": "code",
        "colab": {
          "base_uri": "https://localhost:8080/",
          "height": 288
        },
        "outputId": "44fc0d7b-cffd-4178-b93f-ba98df5db4b3"
      },
      "source": [
        "sgt.plot_acf(df_training.return_residuals, zero = False, lags = 40)\n",
        "plt.title(\"ACF Of Residuals for Returns\",size=18)\n",
        "plt.show()"
      ],
      "execution_count": 97,
      "outputs": [
        {
          "output_type": "display_data",
          "data": {
            "image/png": "[encoded data removed]",
            "text/plain": [
              "<Figure size 432x288 with 1 Axes>"
            ]
          },
          "metadata": {
            "tags": [],
            "needs_background": "light"
          }
        }
      ]
    },
    {
      "cell_type": "code",
      "metadata": {
        "id": "mFngjlQFo0sE",
        "colab_type": "code",
        "colab": {
          "base_uri": "https://localhost:8080/",
          "height": 262
        },
        "outputId": "34329641-d81f-41a0-cc29-4a7c6518b125"
      },
      "source": [
        "df_training.return_residuals.plot(figsize=(20,5))\n",
        "plt.title(\"Residuals of Returns\", size=20)\n",
        "plt.show()"
      ],
      "execution_count": 98,
      "outputs": [
        {
          "output_type": "display_data",
          "data": {
            "image/png": "[encoded data removed]",
            "text/plain": [
              "<Figure size 1440x360 with 1 Axes>"
            ]
          },
          "metadata": {
            "tags": [],
            "needs_background": "light"
          }
        }
      ]
    },
    {
      "cell_type": "markdown",
      "metadata": {
        "id": "8PCmpX1bpfEB",
        "colab_type": "text"
      },
      "source": [
        "AR Models rely on past data. Can we adjust our model to adapt for past errors? \n",
        "\n",
        "If our model is experiencing large errors - esp. in the recent past, can we not build in a way of adjusting our models? \n",
        "\n",
        "The MA captures the 'momentum' in the time series by adjusting for recent errors \n",
        "\n",
        "When deciding on the number lags for a MA model - we are interested in the total impact of the previous residuals - so we use the ACF\n",
        "\n",
        "Create a MA(1) Model on Returns\n"
      ]
    },
    {
      "cell_type": "code",
      "metadata": {
        "id": "FK3DKOd0pFU9",
        "colab_type": "code",
        "colab": {
          "base_uri": "https://localhost:8080/",
          "height": 367
        },
        "outputId": "70e6da4c-616a-4525-b6f4-d04c7d9da874"
      },
      "source": [
        "model_ret_ma_1 = ARMA(df_training.daily_return[1:], order=(0,1))\n",
        "results_ret_ma_1 = model_ret_ma_1.fit()\n",
        "print(results_ret_ma_1.summary())"
      ],
      "execution_count": 99,
      "outputs": [
        {
          "output_type": "stream",
          "text": [
            "                              ARMA Model Results                              \n",
            "==============================================================================\n",
            "Dep. Variable:           daily_return   No. Observations:                 1095\n",
            "Model:                     ARMA(0, 1)   Log Likelihood               -1906.409\n",
            "Method:                       css-mle   S.D. of innovations              1.380\n",
            "Date:                Tue, 16 Jun 2020   AIC                           3818.817\n",
            "Time:                        18:05:55   BIC                           3833.813\n",
            "Sample:                             0   HQIC                          3824.492\n",
            "                                                                              \n",
            "======================================================================================\n",
            "                         coef    std err          z      P>|z|      [0.025      0.975]\n",
            "--------------------------------------------------------------------------------------\n",
            "const                 -0.0012      0.041     -0.029      0.977      -0.081       0.078\n",
            "ma.L1.daily_return    -0.0284      0.031     -0.926      0.355      -0.089       0.032\n",
            "                                    Roots                                    \n",
            "=============================================================================\n",
            "                  Real          Imaginary           Modulus         Frequency\n",
            "-----------------------------------------------------------------------------\n",
            "MA.1           35.2071           +0.0000j           35.2071            0.0000\n",
            "-----------------------------------------------------------------------------\n"
          ],
          "name": "stdout"
        }
      ]
    },
    {
      "cell_type": "code",
      "metadata": {
        "id": "lV7okSSLuD62",
        "colab_type": "code",
        "colab": {
          "base_uri": "https://localhost:8080/",
          "height": 402
        },
        "outputId": "1fe0db0d-73ee-43a8-dc0f-d7dc13edddc7"
      },
      "source": [
        "model_ret_ma_2 = ARMA(df_training.daily_return[1:], order=(0,2))\n",
        "results_ret_ma_2 = model_ret_ma_2.fit()\n",
        "print(results_ret_ma_2.summary())\n"
      ],
      "execution_count": 100,
      "outputs": [
        {
          "output_type": "stream",
          "text": [
            "                              ARMA Model Results                              \n",
            "==============================================================================\n",
            "Dep. Variable:           daily_return   No. Observations:                 1095\n",
            "Model:                     ARMA(0, 2)   Log Likelihood               -1906.294\n",
            "Method:                       css-mle   S.D. of innovations              1.380\n",
            "Date:                Tue, 16 Jun 2020   AIC                           3820.588\n",
            "Time:                        18:05:55   BIC                           3840.582\n",
            "Sample:                             0   HQIC                          3828.153\n",
            "                                                                              \n",
            "======================================================================================\n",
            "                         coef    std err          z      P>|z|      [0.025      0.975]\n",
            "--------------------------------------------------------------------------------------\n",
            "const                 -0.0012      0.040     -0.030      0.976      -0.079       0.077\n",
            "ma.L1.daily_return    -0.0271      0.030     -0.893      0.372      -0.087       0.032\n",
            "ma.L2.daily_return    -0.0151      0.032     -0.479      0.632      -0.077       0.047\n",
            "                                    Roots                                    \n",
            "=============================================================================\n",
            "                  Real          Imaginary           Modulus         Frequency\n",
            "-----------------------------------------------------------------------------\n",
            "MA.1            7.2824           +0.0000j            7.2824            0.0000\n",
            "MA.2           -9.0741           +0.0000j            9.0741            0.5000\n",
            "-----------------------------------------------------------------------------\n"
          ],
          "name": "stdout"
        }
      ]
    },
    {
      "cell_type": "code",
      "metadata": {
        "id": "NTWCYWo8tcLb",
        "colab_type": "code",
        "colab": {
          "base_uri": "https://localhost:8080/",
          "height": 437
        },
        "outputId": "0cb3cf27-363f-415a-fe70-46ed778ed449"
      },
      "source": [
        "model_ret_ma_3 = ARMA(df_training.daily_return[1:], order=(0,3))\n",
        "results_ret_ma_3 = model_ret_ma_3.fit()\n",
        "print(results_ret_ma_3.summary())"
      ],
      "execution_count": 101,
      "outputs": [
        {
          "output_type": "stream",
          "text": [
            "                              ARMA Model Results                              \n",
            "==============================================================================\n",
            "Dep. Variable:           daily_return   No. Observations:                 1095\n",
            "Model:                     ARMA(0, 3)   Log Likelihood               -1905.801\n",
            "Method:                       css-mle   S.D. of innovations              1.379\n",
            "Date:                Tue, 16 Jun 2020   AIC                           3821.603\n",
            "Time:                        18:05:55   BIC                           3846.596\n",
            "Sample:                             0   HQIC                          3831.060\n",
            "                                                                              \n",
            "======================================================================================\n",
            "                         coef    std err          z      P>|z|      [0.025      0.975]\n",
            "--------------------------------------------------------------------------------------\n",
            "const                 -0.0013      0.041     -0.030      0.976      -0.082       0.080\n",
            "ma.L1.daily_return    -0.0255      0.030     -0.842      0.400      -0.085       0.034\n",
            "ma.L2.daily_return    -0.0120      0.032     -0.378      0.706      -0.074       0.050\n",
            "ma.L3.daily_return     0.0317      0.032      0.992      0.321      -0.031       0.094\n",
            "                                    Roots                                    \n",
            "=============================================================================\n",
            "                  Real          Imaginary           Modulus         Frequency\n",
            "-----------------------------------------------------------------------------\n",
            "MA.1           -3.1219           -0.0000j            3.1219           -0.5000\n",
            "MA.2            1.7497           -2.6568j            3.1812           -0.1573\n",
            "MA.3            1.7497           +2.6568j            3.1812            0.1573\n",
            "-----------------------------------------------------------------------------\n"
          ],
          "name": "stdout"
        }
      ]
    },
    {
      "cell_type": "code",
      "metadata": {
        "id": "cLDQX30LuvV6",
        "colab_type": "code",
        "colab": {
          "base_uri": "https://localhost:8080/",
          "height": 577
        },
        "outputId": "0994cd16-f696-48cc-a0aa-cf0a6daf027a"
      },
      "source": [
        "model_ret_ma_7 = ARMA(df_training.daily_return[1:], order=(0,7))\n",
        "results_ret_ma_7 = model_ret_ma_7.fit()\n",
        "print(results_ret_ma_7.summary())"
      ],
      "execution_count": 102,
      "outputs": [
        {
          "output_type": "stream",
          "text": [
            "                              ARMA Model Results                              \n",
            "==============================================================================\n",
            "Dep. Variable:           daily_return   No. Observations:                 1095\n",
            "Model:                     ARMA(0, 7)   Log Likelihood               -1902.185\n",
            "Method:                       css-mle   S.D. of innovations              1.375\n",
            "Date:                Tue, 16 Jun 2020   AIC                           3822.369\n",
            "Time:                        18:05:56   BIC                           3867.356\n",
            "Sample:                             0   HQIC                          3839.392\n",
            "                                                                              \n",
            "======================================================================================\n",
            "                         coef    std err          z      P>|z|      [0.025      0.975]\n",
            "--------------------------------------------------------------------------------------\n",
            "const                 -0.0009      0.035     -0.026      0.979      -0.069       0.067\n",
            "ma.L1.daily_return    -0.0316      0.030     -1.043      0.297      -0.091       0.028\n",
            "ma.L2.daily_return    -0.0149      0.030     -0.494      0.622      -0.074       0.044\n",
            "ma.L3.daily_return     0.0329      0.030      1.086      0.278      -0.027       0.092\n",
            "ma.L4.daily_return    -0.0335      0.030     -1.105      0.269      -0.093       0.026\n",
            "ma.L5.daily_return    -0.0584      0.030     -1.937      0.053      -0.117       0.001\n",
            "ma.L6.daily_return    -0.0406      0.031     -1.307      0.192      -0.101       0.020\n",
            "ma.L7.daily_return    -0.0183      0.032     -0.580      0.562      -0.080       0.044\n",
            "                                    Roots                                    \n",
            "=============================================================================\n",
            "                  Real          Imaginary           Modulus         Frequency\n",
            "-----------------------------------------------------------------------------\n",
            "MA.1            1.4200           -0.0000j            1.4200           -0.0000\n",
            "MA.2            0.7207           -1.3579j            1.5373           -0.1723\n",
            "MA.3            0.7207           +1.3579j            1.5373            0.1723\n",
            "MA.4           -1.8206           -0.7459j            1.9674           -0.4381\n",
            "MA.5           -1.8206           +0.7459j            1.9674            0.4381\n",
            "MA.6           -0.7186           -1.9203j            2.0504           -0.3070\n",
            "MA.7           -0.7186           +1.9203j            2.0504            0.3070\n",
            "-----------------------------------------------------------------------------\n"
          ],
          "name": "stdout"
        }
      ]
    },
    {
      "cell_type": "code",
      "metadata": {
        "id": "0PnyLQwXAitr",
        "colab_type": "code",
        "colab": {
          "base_uri": "https://localhost:8080/",
          "height": 87
        },
        "outputId": "8a472921-b475-4a81-acc4-5c6d1ce4c8aa"
      },
      "source": [
        "print(\"ARMA(0,1):  \\t LL = \", results_ret_ma_1.llf, \"\\t AIC = \", results_ret_ma_1.aic)\n",
        "print(\"ARMA(0,2):  \\t LL = \", results_ret_ma_2.llf, \"\\t AIC = \", results_ret_ma_2.aic)\n",
        "print(\"ARMA(0,3):  \\t LL = \", results_ret_ma_3.llf, \"\\t AIC = \", results_ret_ma_3.aic)\n",
        "print(\"ARMA(0,7):  \\t LL = \", results_ret_ma_7.llf, \"\\t AIC = \", results_ret_ma_7.aic)\n"
      ],
      "execution_count": 103,
      "outputs": [
        {
          "output_type": "stream",
          "text": [
            "ARMA(0,1):  \t LL =  -1906.408671503884 \t AIC =  3818.817343007768\n",
            "ARMA(0,2):  \t LL =  -1906.2939404329143 \t AIC =  3820.5878808658285\n",
            "ARMA(0,3):  \t LL =  -1905.8014851298476 \t AIC =  3821.602970259695\n",
            "ARMA(0,7):  \t LL =  -1902.1845051803248 \t AIC =  3822.3690103606496\n"
          ],
          "name": "stdout"
        }
      ]
    },
    {
      "cell_type": "markdown",
      "metadata": {
        "id": "4ISzhI88wYQH",
        "colab_type": "text"
      },
      "source": [
        "### Check our Residuals of our Selected Model"
      ]
    },
    {
      "cell_type": "code",
      "metadata": {
        "id": "iegww_YawPIX",
        "colab_type": "code",
        "colab": {}
      },
      "source": [
        "df_training['resid_MA'] = results_ret_ma_1.resid[1:]"
      ],
      "execution_count": 104,
      "outputs": []
    },
    {
      "cell_type": "code",
      "metadata": {
        "id": "3ptRttp4wrJx",
        "colab_type": "code",
        "colab": {
          "base_uri": "https://localhost:8080/",
          "height": 52
        },
        "outputId": "6edcfa51-5a89-4a65-97b4-940a031291c7"
      },
      "source": [
        "print(\"The mean of the residuals is \" + str(round(df_training.resid_MA.mean(),3)) + \"\\nThe variance of the residuals is \" + str(round(df_training.resid_MA.var(),3)))"
      ],
      "execution_count": 105,
      "outputs": [
        {
          "output_type": "stream",
          "text": [
            "The mean of the residuals is -0.002\n",
            "The variance of the residuals is 1.901\n"
          ],
          "name": "stdout"
        }
      ]
    },
    {
      "cell_type": "code",
      "metadata": {
        "id": "1Oo4oTXlwuAV",
        "colab_type": "code",
        "colab": {
          "base_uri": "https://localhost:8080/",
          "height": 332
        },
        "outputId": "e6e87fc1-7319-4ca4-d6bb-8a139139e20f"
      },
      "source": [
        "df_training.resid_MA[1:].plot(figsize = (20,7))\n",
        "plt.title(\"Residuals of Returns\", size = 18)\n",
        "plt.show()"
      ],
      "execution_count": 106,
      "outputs": [
        {
          "output_type": "display_data",
          "data": {
            "image/png": "[encoded data removed]",
            "text/plain": [
              "<Figure size 1440x504 with 1 Axes>"
            ]
          },
          "metadata": {
            "tags": [],
            "needs_background": "light"
          }
        }
      ]
    },
    {
      "cell_type": "code",
      "metadata": {
        "id": "br3avO27w45H",
        "colab_type": "code",
        "colab": {
          "base_uri": "https://localhost:8080/",
          "height": 157
        },
        "outputId": "52e67c8f-738d-4155-b8fb-6ceaf0771084"
      },
      "source": [
        "sts.adfuller(df_training.resid_MA[2:])"
      ],
      "execution_count": 107,
      "outputs": [
        {
          "output_type": "execute_result",
          "data": {
            "text/plain": [
              "(-32.989200382263085,\n",
              " 0.0,\n",
              " 0,\n",
              " 1093,\n",
              " {'1%': -3.4363470029475525,\n",
              "  '10%': -2.568179853605536,\n",
              "  '5%': -2.864187948086107},\n",
              " 3719.45883482235)"
            ]
          },
          "metadata": {
            "tags": []
          },
          "execution_count": 107
        }
      ]
    },
    {
      "cell_type": "code",
      "metadata": {
        "id": "mOS-8MFWx6SF",
        "colab_type": "code",
        "colab": {
          "base_uri": "https://localhost:8080/",
          "height": 288
        },
        "outputId": "6f2475d0-99b8-4b46-ef98-c5bc27f42010"
      },
      "source": [
        "sgt.plot_acf(df_training.resid_MA[2:], zero = False, lags = 40)\n",
        "plt.title(\"ACF Of Residuals for Returns\",size=18)\n",
        "plt.show()"
      ],
      "execution_count": 108,
      "outputs": [
        {
          "output_type": "display_data",
          "data": {
            "image/png": "[encoded data removed]",
            "text/plain": [
              "<Figure size 432x288 with 1 Axes>"
            ]
          },
          "metadata": {
            "tags": [],
            "needs_background": "light"
          }
        }
      ]
    },
    {
      "cell_type": "code",
      "metadata": {
        "id": "6jjFH9AoyDtV",
        "colab_type": "code",
        "colab": {
          "base_uri": "https://localhost:8080/",
          "height": 235
        },
        "outputId": "c934478d-52d8-4e8f-8197-43231a6bfb06"
      },
      "source": [
        "df_training.head()"
      ],
      "execution_count": 109,
      "outputs": [
        {
          "output_type": "execute_result",
          "data": {
            "text/html": [
              "<div>\n",
              "<style scoped>\n",
              "    .dataframe tbody tr th:only-of-type {\n",
              "        vertical-align: middle;\n",
              "    }\n",
              "\n",
              "    .dataframe tbody tr th {\n",
              "        vertical-align: top;\n",
              "    }\n",
              "\n",
              "    .dataframe thead th {\n",
              "        text-align: right;\n",
              "    }\n",
              "</style>\n",
              "<table border=\"1\" class=\"dataframe\">\n",
              "  <thead>\n",
              "    <tr style=\"text-align: right;\">\n",
              "      <th></th>\n",
              "      <th>Spot</th>\n",
              "      <th>residuals</th>\n",
              "      <th>daily_return</th>\n",
              "      <th>return_residuals</th>\n",
              "      <th>resid_MA</th>\n",
              "    </tr>\n",
              "    <tr>\n",
              "      <th>Date</th>\n",
              "      <th></th>\n",
              "      <th></th>\n",
              "      <th></th>\n",
              "      <th></th>\n",
              "      <th></th>\n",
              "    </tr>\n",
              "  </thead>\n",
              "  <tbody>\n",
              "    <tr>\n",
              "      <th>2015-01-02</th>\n",
              "      <td>3.74</td>\n",
              "      <td>0.251158</td>\n",
              "      <td>2.673797</td>\n",
              "      <td>2.672504</td>\n",
              "      <td>NaN</td>\n",
              "    </tr>\n",
              "    <tr>\n",
              "      <th>2015-01-05</th>\n",
              "      <td>3.84</td>\n",
              "      <td>0.107425</td>\n",
              "      <td>2.673797</td>\n",
              "      <td>2.736758</td>\n",
              "      <td>NaN</td>\n",
              "    </tr>\n",
              "    <tr>\n",
              "      <th>2015-01-06</th>\n",
              "      <td>3.83</td>\n",
              "      <td>0.000381</td>\n",
              "      <td>-0.260417</td>\n",
              "      <td>-0.197456</td>\n",
              "      <td>-0.183334</td>\n",
              "    </tr>\n",
              "    <tr>\n",
              "      <th>2015-01-07</th>\n",
              "      <td>3.74</td>\n",
              "      <td>-0.079914</td>\n",
              "      <td>-2.349869</td>\n",
              "      <td>-2.357454</td>\n",
              "      <td>-2.353910</td>\n",
              "    </tr>\n",
              "    <tr>\n",
              "      <th>2015-01-08</th>\n",
              "      <td>3.72</td>\n",
              "      <td>-0.012575</td>\n",
              "      <td>-0.534759</td>\n",
              "      <td>-0.592580</td>\n",
              "      <td>-0.600452</td>\n",
              "    </tr>\n",
              "  </tbody>\n",
              "</table>\n",
              "</div>"
            ],
            "text/plain": [
              "            Spot  residuals  daily_return  return_residuals  resid_MA\n",
              "Date                                                                 \n",
              "2015-01-02  3.74   0.251158      2.673797          2.672504       NaN\n",
              "2015-01-05  3.84   0.107425      2.673797          2.736758       NaN\n",
              "2015-01-06  3.83   0.000381     -0.260417         -0.197456 -0.183334\n",
              "2015-01-07  3.74  -0.079914     -2.349869         -2.357454 -2.353910\n",
              "2015-01-08  3.72  -0.012575     -0.534759         -0.592580 -0.600452"
            ]
          },
          "metadata": {
            "tags": []
          },
          "execution_count": 109
        }
      ]
    },
    {
      "cell_type": "markdown",
      "metadata": {
        "id": "Pnb9Pj0NyVNx",
        "colab_type": "text"
      },
      "source": [
        "### Build a MA Model on Prices\n",
        "\n",
        "While this dataset is close to stationary - compare the model output (AIC)"
      ]
    },
    {
      "cell_type": "code",
      "metadata": {
        "id": "WJMH9IfwyIsE",
        "colab_type": "code",
        "colab": {
          "base_uri": "https://localhost:8080/",
          "height": 367
        },
        "outputId": "65389cd4-9a6a-4694-c554-d73ecdf403c0"
      },
      "source": [
        "model_ma_1 = ARMA(df_training.Spot, order=(0,1))\n",
        "results_ma_1 = model_ma_1.fit()\n",
        "print(results_ma_1.summary())"
      ],
      "execution_count": 110,
      "outputs": [
        {
          "output_type": "stream",
          "text": [
            "                              ARMA Model Results                              \n",
            "==============================================================================\n",
            "Dep. Variable:                   Spot   No. Observations:                 1096\n",
            "Model:                     ARMA(0, 1)   Log Likelihood                 793.327\n",
            "Method:                       css-mle   S.D. of innovations              0.117\n",
            "Date:                Tue, 16 Jun 2020   AIC                          -1580.654\n",
            "Time:                        18:05:57   BIC                          -1565.656\n",
            "Sample:                             0   HQIC                         -1574.979\n",
            "                                                                              \n",
            "==============================================================================\n",
            "                 coef    std err          z      P>|z|      [0.025      0.975]\n",
            "------------------------------------------------------------------------------\n",
            "const          3.4861      0.007    531.233      0.000       3.473       3.499\n",
            "ma.L1.Spot     0.8535      0.012     72.462      0.000       0.830       0.877\n",
            "                                    Roots                                    \n",
            "=============================================================================\n",
            "                  Real          Imaginary           Modulus         Frequency\n",
            "-----------------------------------------------------------------------------\n",
            "MA.1           -1.1716           +0.0000j            1.1716            0.5000\n",
            "-----------------------------------------------------------------------------\n"
          ],
          "name": "stdout"
        }
      ]
    },
    {
      "cell_type": "code",
      "metadata": {
        "id": "dsH2nShTyspm",
        "colab_type": "code",
        "colab": {
          "base_uri": "https://localhost:8080/",
          "height": 288
        },
        "outputId": "a5504728-4a1c-46d7-ff55-60c7613e9b22"
      },
      "source": [
        "sgt.plot_acf(df_training.Spot[2:], zero = False, lags = 40)\n",
        "plt.title(\"ACF Of Prices\",size=18)\n",
        "plt.show()"
      ],
      "execution_count": 111,
      "outputs": [
        {
          "output_type": "display_data",
          "data": {
            "image/png": "[encoded data removed]",
            "text/plain": [
              "<Figure size 432x288 with 1 Axes>"
            ]
          },
          "metadata": {
            "tags": [],
            "needs_background": "light"
          }
        }
      ]
    },
    {
      "cell_type": "markdown",
      "metadata": {
        "id": "VdAAAbZN0i-f",
        "colab_type": "text"
      },
      "source": [
        "### ARMA(p,q)\n",
        "\n",
        "We continue to use the same function - ARMA but specify the order differently"
      ]
    },
    {
      "cell_type": "code",
      "metadata": {
        "id": "qSSPvprZ1Gn4",
        "colab_type": "code",
        "colab": {
          "base_uri": "https://localhost:8080/",
          "height": 235
        },
        "outputId": "fe38b643-949e-448c-a61e-7945e9f9bc2a"
      },
      "source": [
        "df_training.head()"
      ],
      "execution_count": 112,
      "outputs": [
        {
          "output_type": "execute_result",
          "data": {
            "text/html": [
              "<div>\n",
              "<style scoped>\n",
              "    .dataframe tbody tr th:only-of-type {\n",
              "        vertical-align: middle;\n",
              "    }\n",
              "\n",
              "    .dataframe tbody tr th {\n",
              "        vertical-align: top;\n",
              "    }\n",
              "\n",
              "    .dataframe thead th {\n",
              "        text-align: right;\n",
              "    }\n",
              "</style>\n",
              "<table border=\"1\" class=\"dataframe\">\n",
              "  <thead>\n",
              "    <tr style=\"text-align: right;\">\n",
              "      <th></th>\n",
              "      <th>Spot</th>\n",
              "      <th>residuals</th>\n",
              "      <th>daily_return</th>\n",
              "      <th>return_residuals</th>\n",
              "      <th>resid_MA</th>\n",
              "    </tr>\n",
              "    <tr>\n",
              "      <th>Date</th>\n",
              "      <th></th>\n",
              "      <th></th>\n",
              "      <th></th>\n",
              "      <th></th>\n",
              "      <th></th>\n",
              "    </tr>\n",
              "  </thead>\n",
              "  <tbody>\n",
              "    <tr>\n",
              "      <th>2015-01-02</th>\n",
              "      <td>3.74</td>\n",
              "      <td>0.251158</td>\n",
              "      <td>2.673797</td>\n",
              "      <td>2.672504</td>\n",
              "      <td>NaN</td>\n",
              "    </tr>\n",
              "    <tr>\n",
              "      <th>2015-01-05</th>\n",
              "      <td>3.84</td>\n",
              "      <td>0.107425</td>\n",
              "      <td>2.673797</td>\n",
              "      <td>2.736758</td>\n",
              "      <td>NaN</td>\n",
              "    </tr>\n",
              "    <tr>\n",
              "      <th>2015-01-06</th>\n",
              "      <td>3.83</td>\n",
              "      <td>0.000381</td>\n",
              "      <td>-0.260417</td>\n",
              "      <td>-0.197456</td>\n",
              "      <td>-0.183334</td>\n",
              "    </tr>\n",
              "    <tr>\n",
              "      <th>2015-01-07</th>\n",
              "      <td>3.74</td>\n",
              "      <td>-0.079914</td>\n",
              "      <td>-2.349869</td>\n",
              "      <td>-2.357454</td>\n",
              "      <td>-2.353910</td>\n",
              "    </tr>\n",
              "    <tr>\n",
              "      <th>2015-01-08</th>\n",
              "      <td>3.72</td>\n",
              "      <td>-0.012575</td>\n",
              "      <td>-0.534759</td>\n",
              "      <td>-0.592580</td>\n",
              "      <td>-0.600452</td>\n",
              "    </tr>\n",
              "  </tbody>\n",
              "</table>\n",
              "</div>"
            ],
            "text/plain": [
              "            Spot  residuals  daily_return  return_residuals  resid_MA\n",
              "Date                                                                 \n",
              "2015-01-02  3.74   0.251158      2.673797          2.672504       NaN\n",
              "2015-01-05  3.84   0.107425      2.673797          2.736758       NaN\n",
              "2015-01-06  3.83   0.000381     -0.260417         -0.197456 -0.183334\n",
              "2015-01-07  3.74  -0.079914     -2.349869         -2.357454 -2.353910\n",
              "2015-01-08  3.72  -0.012575     -0.534759         -0.592580 -0.600452"
            ]
          },
          "metadata": {
            "tags": []
          },
          "execution_count": 112
        }
      ]
    },
    {
      "cell_type": "code",
      "metadata": {
        "id": "yh2obbRvy7SK",
        "colab_type": "code",
        "colab": {
          "base_uri": "https://localhost:8080/",
          "height": 402
        },
        "outputId": "376a7496-7501-4363-c149-d78d38aea7db"
      },
      "source": [
        "model_ret_ar_1_ma_1 = ARMA(df_training.daily_return, order=(1,1))\n",
        "results_ret_ar_1_ma_1 = model_ret_ar_1_ma_1.fit()\n",
        "print(results_ret_ar_1_ma_1.summary())"
      ],
      "execution_count": 113,
      "outputs": [
        {
          "output_type": "stream",
          "text": [
            "                              ARMA Model Results                              \n",
            "==============================================================================\n",
            "Dep. Variable:           daily_return   No. Observations:                 1096\n",
            "Model:                     ARMA(1, 1)   Log Likelihood               -1901.057\n",
            "Method:                       css-mle   S.D. of innovations              1.369\n",
            "Date:                Tue, 16 Jun 2020   AIC                           3810.113\n",
            "Time:                        18:05:58   BIC                           3830.111\n",
            "Sample:                             0   HQIC                          3817.680\n",
            "                                                                              \n",
            "======================================================================================\n",
            "                         coef    std err          z      P>|z|      [0.025      0.975]\n",
            "--------------------------------------------------------------------------------------\n",
            "const                  0.0019      0.003      0.574      0.566      -0.005       0.008\n",
            "ar.L1.daily_return     0.9631      0.008    115.805      0.000       0.947       0.979\n",
            "ma.L1.daily_return    -0.9999      0.003   -387.748      0.000      -1.005      -0.995\n",
            "                                    Roots                                    \n",
            "=============================================================================\n",
            "                  Real          Imaginary           Modulus         Frequency\n",
            "-----------------------------------------------------------------------------\n",
            "AR.1            1.0383           +0.0000j            1.0383            0.0000\n",
            "MA.1            1.0001           +0.0000j            1.0001            0.0000\n",
            "-----------------------------------------------------------------------------\n"
          ],
          "name": "stdout"
        }
      ]
    },
    {
      "cell_type": "markdown",
      "metadata": {
        "id": "7DaAfPEX1pDP",
        "colab_type": "text"
      },
      "source": [
        "We can see a strong tendency between past and present values (AR1 coeffiecient) - so returns tend to follow momentum BUT our MA coefficient suggests we are moving away from yesterday's price"
      ]
    },
    {
      "cell_type": "markdown",
      "metadata": {
        "id": "rfXoxOzj31Sh",
        "colab_type": "text"
      },
      "source": [
        "### Check residuals"
      ]
    },
    {
      "cell_type": "code",
      "metadata": {
        "id": "QijJUSSW1ThP",
        "colab_type": "code",
        "colab": {
          "base_uri": "https://localhost:8080/",
          "height": 235
        },
        "outputId": "6137e732-4630-45b5-96ac-4220c9bd2b16"
      },
      "source": [
        "df_training[\"Res_ARMA\"] = results_ret_ar_1_ma_1.resid[1:]\n",
        "df_training.head()"
      ],
      "execution_count": 114,
      "outputs": [
        {
          "output_type": "execute_result",
          "data": {
            "text/html": [
              "<div>\n",
              "<style scoped>\n",
              "    .dataframe tbody tr th:only-of-type {\n",
              "        vertical-align: middle;\n",
              "    }\n",
              "\n",
              "    .dataframe tbody tr th {\n",
              "        vertical-align: top;\n",
              "    }\n",
              "\n",
              "    .dataframe thead th {\n",
              "        text-align: right;\n",
              "    }\n",
              "</style>\n",
              "<table border=\"1\" class=\"dataframe\">\n",
              "  <thead>\n",
              "    <tr style=\"text-align: right;\">\n",
              "      <th></th>\n",
              "      <th>Spot</th>\n",
              "      <th>residuals</th>\n",
              "      <th>daily_return</th>\n",
              "      <th>return_residuals</th>\n",
              "      <th>resid_MA</th>\n",
              "      <th>Res_ARMA</th>\n",
              "    </tr>\n",
              "    <tr>\n",
              "      <th>Date</th>\n",
              "      <th></th>\n",
              "      <th></th>\n",
              "      <th></th>\n",
              "      <th></th>\n",
              "      <th></th>\n",
              "      <th></th>\n",
              "    </tr>\n",
              "  </thead>\n",
              "  <tbody>\n",
              "    <tr>\n",
              "      <th>2015-01-02</th>\n",
              "      <td>3.74</td>\n",
              "      <td>0.251158</td>\n",
              "      <td>2.673797</td>\n",
              "      <td>2.672504</td>\n",
              "      <td>NaN</td>\n",
              "      <td>NaN</td>\n",
              "    </tr>\n",
              "    <tr>\n",
              "      <th>2015-01-05</th>\n",
              "      <td>3.84</td>\n",
              "      <td>0.107425</td>\n",
              "      <td>2.673797</td>\n",
              "      <td>2.736758</td>\n",
              "      <td>NaN</td>\n",
              "      <td>2.721135</td>\n",
              "    </tr>\n",
              "    <tr>\n",
              "      <th>2015-01-06</th>\n",
              "      <td>3.83</td>\n",
              "      <td>0.000381</td>\n",
              "      <td>-0.260417</td>\n",
              "      <td>-0.197456</td>\n",
              "      <td>-0.183334</td>\n",
              "      <td>-0.163842</td>\n",
              "    </tr>\n",
              "    <tr>\n",
              "      <th>2015-01-07</th>\n",
              "      <td>3.74</td>\n",
              "      <td>-0.079914</td>\n",
              "      <td>-2.349869</td>\n",
              "      <td>-2.357454</td>\n",
              "      <td>-2.353910</td>\n",
              "      <td>-2.260050</td>\n",
              "    </tr>\n",
              "    <tr>\n",
              "      <th>2015-01-08</th>\n",
              "      <td>3.72</td>\n",
              "      <td>-0.012575</td>\n",
              "      <td>-0.534759</td>\n",
              "      <td>-0.592580</td>\n",
              "      <td>-0.600452</td>\n",
              "      <td>-0.492149</td>\n",
              "    </tr>\n",
              "  </tbody>\n",
              "</table>\n",
              "</div>"
            ],
            "text/plain": [
              "            Spot  residuals  daily_return  return_residuals  resid_MA  Res_ARMA\n",
              "Date                                                                           \n",
              "2015-01-02  3.74   0.251158      2.673797          2.672504       NaN       NaN\n",
              "2015-01-05  3.84   0.107425      2.673797          2.736758       NaN  2.721135\n",
              "2015-01-06  3.83   0.000381     -0.260417         -0.197456 -0.183334 -0.163842\n",
              "2015-01-07  3.74  -0.079914     -2.349869         -2.357454 -2.353910 -2.260050\n",
              "2015-01-08  3.72  -0.012575     -0.534759         -0.592580 -0.600452 -0.492149"
            ]
          },
          "metadata": {
            "tags": []
          },
          "execution_count": 114
        }
      ]
    },
    {
      "cell_type": "code",
      "metadata": {
        "id": "f7dPDFat2eZs",
        "colab_type": "code",
        "colab": {
          "base_uri": "https://localhost:8080/",
          "height": 332
        },
        "outputId": "4b7a9fc2-0e27-418e-a79c-5035fc404fc6"
      },
      "source": [
        "df_training.Res_ARMA.plot(figsize = (20,7))\n",
        "plt.title(\"Residuals of Returns\", size=18)\n",
        "plt.show()"
      ],
      "execution_count": 115,
      "outputs": [
        {
          "output_type": "display_data",
          "data": {
            "image/png": "[encoded data removed]",
            "text/plain": [
              "<Figure size 1440x504 with 1 Axes>"
            ]
          },
          "metadata": {
            "tags": [],
            "needs_background": "light"
          }
        }
      ]
    },
    {
      "cell_type": "code",
      "metadata": {
        "id": "esP_mThM4Hvm",
        "colab_type": "code",
        "colab": {
          "base_uri": "https://localhost:8080/",
          "height": 288
        },
        "outputId": "a214b4d3-baca-4198-f960-0be1d0c5928e"
      },
      "source": [
        "sgt.plot_acf(df_training.Res_ARMA[2:], zero = False, lags = 40)\n",
        "plt.title(\"ACF Of Residuals for Returns\",size=18)\n",
        "plt.show()"
      ],
      "execution_count": 116,
      "outputs": [
        {
          "output_type": "display_data",
          "data": {
            "image/png": "[encoded data removed]",
            "text/plain": [
              "<Figure size 432x288 with 1 Axes>"
            ]
          },
          "metadata": {
            "tags": [],
            "needs_background": "light"
          }
        }
      ]
    },
    {
      "cell_type": "markdown",
      "metadata": {
        "id": "SM4_Nw8h5hwB",
        "colab_type": "text"
      },
      "source": [
        "### ARIMA \n",
        "\n",
        "Allows us to incorporate the difference between prices from one period to the next - this is to ensure stationarity \n",
        "\n",
        "We call this 'integration' \n",
        "\n",
        "ARIMA(p, d, q)\n",
        "\n",
        "When selecting a model:\n",
        "\n",
        "1. Examine the ACF of the errors to get a clue of what lags to use (though we have an idea from what we have done already)\n",
        "\n",
        "\n",
        "\n",
        "\n",
        "\n",
        "\n",
        "\n"
      ]
    },
    {
      "cell_type": "code",
      "metadata": {
        "id": "N86r4EO65A8n",
        "colab_type": "code",
        "colab": {}
      },
      "source": [
        "from statsmodels.tsa.arima_model import ARIMA\n"
      ],
      "execution_count": 117,
      "outputs": []
    },
    {
      "cell_type": "code",
      "metadata": {
        "id": "2ipU38LR8Ppw",
        "colab_type": "code",
        "colab": {
          "base_uri": "https://localhost:8080/",
          "height": 402
        },
        "outputId": "e32a9ebc-e02a-4d08-9dd8-da4211e309fb"
      },
      "source": [
        "model_ar_1_i_1_ma_1 = ARIMA(df_training.Spot, order=(1,1,1))\n",
        "results_ar_1_i_1_ma_1 = model_ar_1_i_1_ma_1.fit()\n",
        "print(results_ar_1_i_1_ma_1.summary())"
      ],
      "execution_count": 118,
      "outputs": [
        {
          "output_type": "stream",
          "text": [
            "                             ARIMA Model Results                              \n",
            "==============================================================================\n",
            "Dep. Variable:                 D.Spot   No. Observations:                 1095\n",
            "Model:                 ARIMA(1, 1, 1)   Log Likelihood                1762.677\n",
            "Method:                       css-mle   S.D. of innovations              0.048\n",
            "Date:                Tue, 16 Jun 2020   AIC                          -3517.353\n",
            "Time:                        18:06:00   BIC                          -3497.359\n",
            "Sample:                             1   HQIC                         -3509.788\n",
            "                                                                              \n",
            "================================================================================\n",
            "                   coef    std err          z      P>|z|      [0.025      0.975]\n",
            "--------------------------------------------------------------------------------\n",
            "const           -0.0003      0.000     -2.275      0.023      -0.001   -3.87e-05\n",
            "ar.L1.D.Spot     0.9651      0.008    118.770      0.000       0.949       0.981\n",
            "ma.L1.D.Spot    -1.0000      0.003   -360.837      0.000      -1.005      -0.995\n",
            "                                    Roots                                    \n",
            "=============================================================================\n",
            "                  Real          Imaginary           Modulus         Frequency\n",
            "-----------------------------------------------------------------------------\n",
            "AR.1            1.0361           +0.0000j            1.0361            0.0000\n",
            "MA.1            1.0000           +0.0000j            1.0000            0.0000\n",
            "-----------------------------------------------------------------------------\n"
          ],
          "name": "stdout"
        }
      ]
    },
    {
      "cell_type": "code",
      "metadata": {
        "id": "a-SK8HKT8cYD",
        "colab_type": "code",
        "colab": {
          "base_uri": "https://localhost:8080/",
          "height": 288
        },
        "outputId": "6405d393-1c4b-4693-cf23-588ec290f913"
      },
      "source": [
        "df_training['res_ar_1_i_1_ma_1'] = results_ar_1_i_1_ma_1.resid.iloc[:]\n",
        "sgt.plot_acf(df_training.res_ar_1_i_1_ma_1[1:], zero = False, lags = 40)\n",
        "plt.title(\"ACF Of Residuals for ARIMA(1,1,1)\",size=18)\n",
        "plt.show()"
      ],
      "execution_count": 119,
      "outputs": [
        {
          "output_type": "display_data",
          "data": {
            "image/png": "[encoded data removed]",
            "text/plain": [
              "<Figure size 432x288 with 1 Axes>"
            ]
          },
          "metadata": {
            "tags": [],
            "needs_background": "light"
          }
        }
      ]
    },
    {
      "cell_type": "markdown",
      "metadata": {
        "id": "H_0v24Vh9alZ",
        "colab_type": "text"
      },
      "source": [
        "Run Higher Order ARIMA Models"
      ]
    },
    {
      "cell_type": "code",
      "metadata": {
        "id": "48fb0R2v81gx",
        "colab_type": "code",
        "colab": {}
      },
      "source": [
        "model_ar_1_i_1_ma_2 = ARIMA(df_training.Spot, order=(1,1,2))\n",
        "results_ar_1_i_1_ma_2 = model_ar_1_i_1_ma_2.fit(start_ar_lags=5)\n",
        "model_ar_1_i_1_ma_3 = ARIMA(df_training.Spot, order=(1,1,3))\n",
        "results_ar_1_i_1_ma_3 = model_ar_1_i_1_ma_3.fit(start_ar_lags=5)\n",
        "model_ar_2_i_1_ma_1 = ARIMA(df_training.Spot, order=(2,1,1))\n",
        "results_ar_2_i_1_ma_1 = model_ar_2_i_1_ma_1.fit()\n",
        "model_ar_3_i_1_ma_1 = ARIMA(df_training.Spot, order=(3,1,1))\n",
        "results_ar_3_i_1_ma_1 = model_ar_3_i_1_ma_1.fit()\n",
        "model_ar_3_i_1_ma_2 = ARIMA(df.Spot, order=(3,1,2))\n",
        "results_ar_3_i_1_ma_2 = model_ar_3_i_1_ma_2.fit(start_ar_lags=5)"
      ],
      "execution_count": 140,
      "outputs": []
    },
    {
      "cell_type": "code",
      "metadata": {
        "id": "Uee9A6EV9ZnS",
        "colab_type": "code",
        "colab": {
          "base_uri": "https://localhost:8080/",
          "height": 122
        },
        "outputId": "fc740528-f92b-432e-f3db-5c82d37e5d9b"
      },
      "source": [
        "print(\"ARIMA(1,1,1):  \\t LL = \", results_ar_1_i_1_ma_1.llf, \"\\t AIC = \", results_ar_1_i_1_ma_1.aic)\n",
        "print(\"ARIMA(1,1,2):  \\t LL = \", results_ar_1_i_1_ma_2.llf, \"\\t AIC = \", results_ar_1_i_1_ma_2.aic)\n",
        "print(\"ARIMA(1,1,3):  \\t LL = \", results_ar_1_i_1_ma_3.llf, \"\\t AIC = \", results_ar_1_i_1_ma_3.aic)\n",
        "print(\"ARIMA(2,1,1):  \\t LL = \", results_ar_2_i_1_ma_1.llf, \"\\t AIC = \", results_ar_2_i_1_ma_1.aic)\n",
        "print(\"ARIMA(3,1,1):  \\t LL = \", results_ar_3_i_1_ma_1.llf, \"\\t AIC = \", results_ar_3_i_1_ma_1.aic)\n",
        "print(\"ARIMA(3,1,2):  \\t LL = \", results_ar_3_i_1_ma_2.llf, \"\\t AIC = \", results_ar_3_i_1_ma_2.aic)"
      ],
      "execution_count": 141,
      "outputs": [
        {
          "output_type": "stream",
          "text": [
            "ARIMA(1,1,1):  \t LL =  1762.6766495529541 \t AIC =  -3517.3532991059083\n",
            "ARIMA(1,1,2):  \t LL =  1755.4540080423299 \t AIC =  -3500.9080160846597\n",
            "ARIMA(1,1,3):  \t LL =  1755.9200980959495 \t AIC =  -3499.840196191899\n",
            "ARIMA(2,1,1):  \t LL =  1755.5209393141226 \t AIC =  -3501.0418786282453\n",
            "ARIMA(3,1,1):  \t LL =  1755.96342131841 \t AIC =  -3499.92684263682\n",
            "ARIMA(3,1,2):  \t LL =  2121.692707079983 \t AIC =  -4229.385414159966\n"
          ],
          "name": "stdout"
        }
      ]
    },
    {
      "cell_type": "code",
      "metadata": {
        "id": "rXJizFP39Zqr",
        "colab_type": "code",
        "colab": {
          "base_uri": "https://localhost:8080/",
          "height": 288
        },
        "outputId": "1a1ab655-40ac-46cc-a620-f27bcfec3e3d"
      },
      "source": [
        "df_training['resid_ARIMA312'] = results_ar_3_i_1_ma_2.resid.iloc[:]\n",
        "#df_training.head()\n",
        "\n",
        "sgt.plot_acf(df_training.resid_ARIMA312[2:], zero = False, lags = 40)\n",
        "plt.title(\"ACF Of Residuals for ARIMA(3,1,2)\",size=18)\n",
        "plt.show()\n"
      ],
      "execution_count": 122,
      "outputs": [
        {
          "output_type": "display_data",
          "data": {
            "image/png": "[encoded data removed]",
            "text/plain": [
              "<Figure size 432x288 with 1 Axes>"
            ]
          },
          "metadata": {
            "tags": [],
            "needs_background": "light"
          }
        }
      ]
    },
    {
      "cell_type": "markdown",
      "metadata": {
        "id": "1nZQn3NmE-a0",
        "colab_type": "text"
      },
      "source": [
        "### Auto ARIMA\n",
        "\n",
        "This is function will select the best ARIMA model - AIC which uses the Log-Likelihood\n",
        "\n",
        "\n",
        "\n",
        "\n",
        "\n"
      ]
    },
    {
      "cell_type": "code",
      "metadata": {
        "colab_type": "code",
        "id": "a0RKop6jGZpk",
        "colab": {}
      },
      "source": [
        "!pip install -q pmdarima"
      ],
      "execution_count": 128,
      "outputs": []
    },
    {
      "cell_type": "code",
      "metadata": {
        "id": "M1meO1xR9ZvU",
        "colab_type": "code",
        "colab": {
          "base_uri": "https://localhost:8080/",
          "height": 454
        },
        "outputId": "bfd3c003-9b13-4b4e-de29-487840936e88"
      },
      "source": [
        "from pmdarima.arima import auto_arima"
      ],
      "execution_count": 129,
      "outputs": [
        {
          "output_type": "error",
          "ename": "ImportError",
          "evalue": "ignored",
          "traceback": [
            "\u001b[0;31m---------------------------------------------------------------------------\u001b[0m",
            "\u001b[0;31mImportError\u001b[0m                               Traceback (most recent call last)",
            "\u001b[0;32m<ipython-input-129-6858fadc5169>\u001b[0m in \u001b[0;36m<module>\u001b[0;34m()\u001b[0m\n\u001b[0;32m----> 1\u001b[0;31m \u001b[0;32mfrom\u001b[0m \u001b[0mpmdarima\u001b[0m\u001b[0;34m.\u001b[0m\u001b[0marima\u001b[0m \u001b[0;32mimport\u001b[0m \u001b[0mauto_arima\u001b[0m\u001b[0;34m\u001b[0m\u001b[0;34m\u001b[0m\u001b[0m\n\u001b[0m",
            "\u001b[0;32m/usr/local/lib/python3.6/dist-packages/pmdarima/__init__.py\u001b[0m in \u001b[0;36m<module>\u001b[0;34m()\u001b[0m\n\u001b[1;32m     47\u001b[0m \u001b[0;34m\u001b[0m\u001b[0m\n\u001b[1;32m     48\u001b[0m     \u001b[0;31m# Stuff we want at top-level\u001b[0m\u001b[0;34m\u001b[0m\u001b[0;34m\u001b[0m\u001b[0;34m\u001b[0m\u001b[0m\n\u001b[0;32m---> 49\u001b[0;31m     \u001b[0;32mfrom\u001b[0m \u001b[0;34m.\u001b[0m\u001b[0marima\u001b[0m \u001b[0;32mimport\u001b[0m \u001b[0mauto_arima\u001b[0m\u001b[0;34m,\u001b[0m \u001b[0mARIMA\u001b[0m\u001b[0;34m,\u001b[0m \u001b[0mAutoARIMA\u001b[0m\u001b[0;34m,\u001b[0m \u001b[0mStepwiseContext\u001b[0m\u001b[0;34m,\u001b[0m \u001b[0mdecompose\u001b[0m\u001b[0;34m\u001b[0m\u001b[0;34m\u001b[0m\u001b[0m\n\u001b[0m\u001b[1;32m     50\u001b[0m     \u001b[0;32mfrom\u001b[0m \u001b[0;34m.\u001b[0m\u001b[0mutils\u001b[0m \u001b[0;32mimport\u001b[0m \u001b[0macf\u001b[0m\u001b[0;34m,\u001b[0m \u001b[0mautocorr_plot\u001b[0m\u001b[0;34m,\u001b[0m \u001b[0mc\u001b[0m\u001b[0;34m,\u001b[0m \u001b[0mpacf\u001b[0m\u001b[0;34m,\u001b[0m \u001b[0mplot_acf\u001b[0m\u001b[0;34m,\u001b[0m \u001b[0mplot_pacf\u001b[0m\u001b[0;34m,\u001b[0m\u001b[0;31m \u001b[0m\u001b[0;31m\\\u001b[0m\u001b[0;34m\u001b[0m\u001b[0;34m\u001b[0m\u001b[0m\n\u001b[1;32m     51\u001b[0m         \u001b[0mtsdisplay\u001b[0m\u001b[0;34m\u001b[0m\u001b[0;34m\u001b[0m\u001b[0m\n",
            "\u001b[0;32m/usr/local/lib/python3.6/dist-packages/pmdarima/arima/__init__.py\u001b[0m in \u001b[0;36m<module>\u001b[0;34m()\u001b[0m\n\u001b[1;32m      4\u001b[0m \u001b[0;34m\u001b[0m\u001b[0m\n\u001b[1;32m      5\u001b[0m \u001b[0;32mfrom\u001b[0m \u001b[0;34m.\u001b[0m\u001b[0mapprox\u001b[0m \u001b[0;32mimport\u001b[0m \u001b[0;34m*\u001b[0m\u001b[0;34m\u001b[0m\u001b[0;34m\u001b[0m\u001b[0m\n\u001b[0;32m----> 6\u001b[0;31m \u001b[0;32mfrom\u001b[0m \u001b[0;34m.\u001b[0m\u001b[0marima\u001b[0m \u001b[0;32mimport\u001b[0m \u001b[0;34m*\u001b[0m\u001b[0;34m\u001b[0m\u001b[0;34m\u001b[0m\u001b[0m\n\u001b[0m\u001b[1;32m      7\u001b[0m \u001b[0;32mfrom\u001b[0m \u001b[0;34m.\u001b[0m\u001b[0mauto\u001b[0m \u001b[0;32mimport\u001b[0m \u001b[0;34m*\u001b[0m\u001b[0;34m\u001b[0m\u001b[0;34m\u001b[0m\u001b[0m\n\u001b[1;32m      8\u001b[0m \u001b[0;32mfrom\u001b[0m \u001b[0;34m.\u001b[0m\u001b[0mutils\u001b[0m \u001b[0;32mimport\u001b[0m \u001b[0;34m*\u001b[0m\u001b[0;34m\u001b[0m\u001b[0;34m\u001b[0m\u001b[0m\n",
            "\u001b[0;32m/usr/local/lib/python3.6/dist-packages/pmdarima/arima/arima.py\u001b[0m in \u001b[0;36m<module>\u001b[0;34m()\u001b[0m\n\u001b[1;32m     11\u001b[0m \u001b[0;34m\u001b[0m\u001b[0m\n\u001b[1;32m     12\u001b[0m \u001b[0;32mfrom\u001b[0m \u001b[0mstatsmodels\u001b[0m\u001b[0;34m.\u001b[0m\u001b[0mtsa\u001b[0m\u001b[0;34m.\u001b[0m\u001b[0mbase\u001b[0m\u001b[0;34m.\u001b[0m\u001b[0mtsa_model\u001b[0m \u001b[0;32mimport\u001b[0m \u001b[0mTimeSeriesModelResults\u001b[0m\u001b[0;34m\u001b[0m\u001b[0;34m\u001b[0m\u001b[0m\n\u001b[0;32m---> 13\u001b[0;31m \u001b[0;32mfrom\u001b[0m \u001b[0mstatsmodels\u001b[0m \u001b[0;32mimport\u001b[0m \u001b[0mapi\u001b[0m \u001b[0;32mas\u001b[0m \u001b[0msm\u001b[0m\u001b[0;34m\u001b[0m\u001b[0;34m\u001b[0m\u001b[0m\n\u001b[0m\u001b[1;32m     14\u001b[0m \u001b[0;34m\u001b[0m\u001b[0m\n\u001b[1;32m     15\u001b[0m \u001b[0;32mfrom\u001b[0m \u001b[0mscipy\u001b[0m\u001b[0;34m.\u001b[0m\u001b[0mstats\u001b[0m \u001b[0;32mimport\u001b[0m \u001b[0mgaussian_kde\u001b[0m\u001b[0;34m,\u001b[0m \u001b[0mnorm\u001b[0m\u001b[0;34m\u001b[0m\u001b[0;34m\u001b[0m\u001b[0m\n",
            "\u001b[0;32m/usr/local/lib/python3.6/dist-packages/statsmodels/api.py\u001b[0m in \u001b[0;36m<module>\u001b[0;34m()\u001b[0m\n\u001b[1;32m      9\u001b[0m \u001b[0;32mfrom\u001b[0m \u001b[0;34m.\u001b[0m \u001b[0;32mimport\u001b[0m \u001b[0mregression\u001b[0m\u001b[0;34m\u001b[0m\u001b[0;34m\u001b[0m\u001b[0m\n\u001b[1;32m     10\u001b[0m \u001b[0;32mfrom\u001b[0m \u001b[0;34m.\u001b[0m\u001b[0mregression\u001b[0m\u001b[0;34m.\u001b[0m\u001b[0mlinear_model\u001b[0m \u001b[0;32mimport\u001b[0m \u001b[0mOLS\u001b[0m\u001b[0;34m,\u001b[0m \u001b[0mGLS\u001b[0m\u001b[0;34m,\u001b[0m \u001b[0mWLS\u001b[0m\u001b[0;34m,\u001b[0m \u001b[0mGLSAR\u001b[0m\u001b[0;34m\u001b[0m\u001b[0;34m\u001b[0m\u001b[0m\n\u001b[0;32m---> 11\u001b[0;31m \u001b[0;32mfrom\u001b[0m \u001b[0;34m.\u001b[0m\u001b[0mregression\u001b[0m\u001b[0;34m.\u001b[0m\u001b[0mrecursive_ls\u001b[0m \u001b[0;32mimport\u001b[0m \u001b[0mRecursiveLS\u001b[0m\u001b[0;34m\u001b[0m\u001b[0;34m\u001b[0m\u001b[0m\n\u001b[0m\u001b[1;32m     12\u001b[0m \u001b[0;32mfrom\u001b[0m \u001b[0;34m.\u001b[0m\u001b[0mregression\u001b[0m\u001b[0;34m.\u001b[0m\u001b[0mquantile_regression\u001b[0m \u001b[0;32mimport\u001b[0m \u001b[0mQuantReg\u001b[0m\u001b[0;34m\u001b[0m\u001b[0;34m\u001b[0m\u001b[0m\n\u001b[1;32m     13\u001b[0m \u001b[0;32mfrom\u001b[0m \u001b[0;34m.\u001b[0m\u001b[0mregression\u001b[0m\u001b[0;34m.\u001b[0m\u001b[0mmixed_linear_model\u001b[0m \u001b[0;32mimport\u001b[0m \u001b[0mMixedLM\u001b[0m\u001b[0;34m\u001b[0m\u001b[0;34m\u001b[0m\u001b[0m\n",
            "\u001b[0;32m/usr/local/lib/python3.6/dist-packages/statsmodels/regression/recursive_ls.py\u001b[0m in \u001b[0;36m<module>\u001b[0;34m()\u001b[0m\n\u001b[1;32m      9\u001b[0m \u001b[0;32mimport\u001b[0m \u001b[0mpandas\u001b[0m \u001b[0;32mas\u001b[0m \u001b[0mpd\u001b[0m\u001b[0;34m\u001b[0m\u001b[0;34m\u001b[0m\u001b[0m\n\u001b[1;32m     10\u001b[0m \u001b[0;34m\u001b[0m\u001b[0m\n\u001b[0;32m---> 11\u001b[0;31m \u001b[0;32mfrom\u001b[0m \u001b[0mstatsmodels\u001b[0m\u001b[0;34m.\u001b[0m\u001b[0mcompat\u001b[0m\u001b[0;34m.\u001b[0m\u001b[0mpandas\u001b[0m \u001b[0;32mimport\u001b[0m \u001b[0mAppender\u001b[0m\u001b[0;34m\u001b[0m\u001b[0;34m\u001b[0m\u001b[0m\n\u001b[0m\u001b[1;32m     12\u001b[0m \u001b[0;34m\u001b[0m\u001b[0m\n\u001b[1;32m     13\u001b[0m \u001b[0;32mfrom\u001b[0m \u001b[0mstatsmodels\u001b[0m\u001b[0;34m.\u001b[0m\u001b[0mtools\u001b[0m\u001b[0;34m.\u001b[0m\u001b[0mdata\u001b[0m \u001b[0;32mimport\u001b[0m \u001b[0m_is_using_pandas\u001b[0m\u001b[0;34m\u001b[0m\u001b[0;34m\u001b[0m\u001b[0m\n",
            "\u001b[0;31mImportError\u001b[0m: cannot import name 'Appender'",
            "",
            "\u001b[0;31m---------------------------------------------------------------------------\u001b[0;32m\nNOTE: If your import is failing due to a missing package, you can\nmanually install dependencies using either !pip or !apt.\n\nTo view examples of installing some common dependencies, click the\n\"Open Examples\" button below.\n\u001b[0;31m---------------------------------------------------------------------------\u001b[0m\n"
          ]
        }
      ]
    },
    {
      "cell_type": "markdown",
      "metadata": {
        "id": "i2Yl6uK3FOXi",
        "colab_type": "text"
      },
      "source": [
        "We can use the auto.arima function to select the ARIMA model for us - like the auto.arima() function in R\n",
        "\n",
        "We run the auto.arima function on the TS Spot Price"
      ]
    },
    {
      "cell_type": "code",
      "metadata": {
        "id": "kX1Hi8IOFP7c",
        "colab_type": "code",
        "colab": {}
      },
      "source": [
        "model_auto_Price = auto_arima(df_training.Spot[1:])"
      ],
      "execution_count": null,
      "outputs": []
    },
    {
      "cell_type": "code",
      "metadata": {
        "id": "gzbzOUvOIHHe",
        "colab_type": "code",
        "colab": {}
      },
      "source": [
        "model_auto_Price"
      ],
      "execution_count": null,
      "outputs": []
    },
    {
      "cell_type": "code",
      "metadata": {
        "id": "LR2h09EYGW7_",
        "colab_type": "code",
        "colab": {}
      },
      "source": [
        "print(model_auto_Price.summary())"
      ],
      "execution_count": null,
      "outputs": []
    },
    {
      "cell_type": "markdown",
      "metadata": {
        "id": "wNG01lEEHx_x",
        "colab_type": "text"
      },
      "source": [
        "The most comprehensive model is the SARIMAX - the default model selection - there is no seasonal components in this data series.\n",
        "\n",
        "One level of integration, with no external (max-variable)\n",
        "\n",
        "Notice the number of sample -1087 - that's the number of data points used.  \n",
        "\n",
        "The auto.arima only uses the AIC as criteria.\n",
        "\n",
        "The default arguments can restrict the function output.\n",
        "\n",
        "\n",
        "In the model below, we run the function on Daily Returns (this is a first differenced series)"
      ]
    },
    {
      "cell_type": "code",
      "metadata": {
        "id": "f4PRfjFPGpPI",
        "colab_type": "code",
        "colab": {}
      },
      "source": [
        "model_auto_Returns = auto_arima(df_training.daily_return[1:])"
      ],
      "execution_count": null,
      "outputs": []
    },
    {
      "cell_type": "code",
      "metadata": {
        "id": "hNCUfqJPG5fP",
        "colab_type": "code",
        "colab": {}
      },
      "source": [
        "print(model_auto_Returns.summary())"
      ],
      "execution_count": null,
      "outputs": []
    },
    {
      "cell_type": "markdown",
      "metadata": {
        "id": "DrwGSKl_Zrs2",
        "colab_type": "text"
      },
      "source": [
        "### Measuring Volatility - ARCH\n",
        "\n",
        "We want to get an idea of how we measure the Residuals - the magnitude of the error terms - we prefer stability.  \n",
        "\n",
        "We are going measure the residuals by squaring the errors (penalising the high differences, increasing the importance of large shocks) using the ARCH model. \n",
        "\n",
        "We are measuring the move from the norm - so we use ARCH - a mean equation and variance equation. \n",
        "\n",
        "AR - AutoRegression \n",
        "Heteroskedasticity - 'different dispersion'\n",
        "Conditional - Variance dependent on other past values of variance\n",
        "\n",
        "Conditional Variance is a function of the squared residual of the previous period and a coefficient. \n",
        "\n",
        "ARCH(q) is a single order model and is only a function of the AR on the past squared residuals.\n",
        "\n",
        "Remember we use ARCH to predict volatility - a measure of uncertainty - not prices and returns\n",
        "\n",
        "The less dispersed the data is, the better the chance of predicting the future price action.  \n",
        "\n",
        "Any variable we seek to predict is equal to the mean (AR output) + error. (We are predicting variance of returns)\n",
        "\n",
        "The mean is a function of past values and past errors - this is the mean equation. \n",
        "\n",
        "The ARCH model consists of two equations:\n",
        "\n",
        "1. Mean equation\n",
        "2. Variance equation\n",
        "\n",
        "First let's check out the volatility in the time series\n",
        "\n",
        "\n"
      ]
    },
    {
      "cell_type": "code",
      "metadata": {
        "id": "NEf54OEQXfn5",
        "colab_type": "code",
        "colab": {
          "base_uri": "https://localhost:8080/",
          "height": 420
        },
        "outputId": "606a5605-5247-4d12-fda5-9b843b9975b1"
      },
      "source": [
        "df_training.daily_return.plot(figsize=(14,6))\n",
        "plt.title(\"Daily Returns\", size=18)"
      ],
      "execution_count": 131,
      "outputs": [
        {
          "output_type": "execute_result",
          "data": {
            "text/plain": [
              "Text(0.5, 1.0, 'Daily Returns')"
            ]
          },
          "metadata": {
            "tags": []
          },
          "execution_count": 131
        },
        {
          "output_type": "display_data",
          "data": {
            "image/png": "[encoded data removed]",
            "text/plain": [
              "<Figure size 1008x432 with 1 Axes>"
            ]
          },
          "metadata": {
            "tags": [],
            "needs_background": "light"
          }
        }
      ]
    },
    {
      "cell_type": "code",
      "metadata": {
        "id": "ZnRoT8snZqVY",
        "colab_type": "code",
        "colab": {}
      },
      "source": [
        "df_training['sq_returns'] = df_training.daily_return*df_training.daily_return"
      ],
      "execution_count": 132,
      "outputs": []
    },
    {
      "cell_type": "code",
      "metadata": {
        "id": "jca3L3tpgvOw",
        "colab_type": "code",
        "colab": {
          "base_uri": "https://localhost:8080/",
          "height": 420
        },
        "outputId": "f214b8bc-aea4-44ee-c16c-87b12967699c"
      },
      "source": [
        "df_training.sq_returns.plot(figsize=(14,6))\n",
        "plt.title(\"Volatility\", size=18)"
      ],
      "execution_count": 133,
      "outputs": [
        {
          "output_type": "execute_result",
          "data": {
            "text/plain": [
              "Text(0.5, 1.0, 'Volatility')"
            ]
          },
          "metadata": {
            "tags": []
          },
          "execution_count": 133
        },
        {
          "output_type": "display_data",
          "data": {
            "image/png": "[encoded data removed]",
            "text/plain": [
              "<Figure size 1008x432 with 1 Axes>"
            ]
          },
          "metadata": {
            "tags": [],
            "needs_background": "light"
          }
        }
      ]
    },
    {
      "cell_type": "code",
      "metadata": {
        "id": "UQighFF3h-yC",
        "colab_type": "code",
        "colab": {
          "base_uri": "https://localhost:8080/",
          "height": 288
        },
        "outputId": "2cede35d-a4f3-4858-8af7-b188f2e56d01"
      },
      "source": [
        "sgt.plot_pacf(df_training.daily_return[1:], lags = 40, alpha = 0.05, zero = False , method = ('ols'))\n",
        "plt.title(\"PACF of Daily Returns\", size = 18)\n",
        "plt.show()"
      ],
      "execution_count": 134,
      "outputs": [
        {
          "output_type": "display_data",
          "data": {
            "image/png": "[encoded data removed]",
            "text/plain": [
              "<Figure size 432x288 with 1 Axes>"
            ]
          },
          "metadata": {
            "tags": [],
            "needs_background": "light"
          }
        }
      ]
    },
    {
      "cell_type": "code",
      "metadata": {
        "id": "U2gUzpmBirYk",
        "colab_type": "code",
        "colab": {
          "base_uri": "https://localhost:8080/",
          "height": 288
        },
        "outputId": "ac9548e9-181b-4624-ddfc-7354effd44ce"
      },
      "source": [
        "sgt.plot_pacf(df_training.sq_returns[1:], lags = 40, alpha = 0.05, zero = False , method = ('ols'))\n",
        "plt.title(\"PACF of Squared Returns\", size = 18)\n",
        "plt.show()"
      ],
      "execution_count": 135,
      "outputs": [
        {
          "output_type": "display_data",
          "data": {
            "image/png": "[encoded data removed]",
            "text/plain": [
              "<Figure size 432x288 with 1 Axes>"
            ]
          },
          "metadata": {
            "tags": [],
            "needs_background": "light"
          }
        }
      ]
    },
    {
      "cell_type": "markdown",
      "metadata": {
        "id": "aDjC9utCi6A6",
        "colab_type": "text"
      },
      "source": [
        "The PACF tends to show volatility comes in clusters - that periods of high volatility tend to be correlated with other periods of high volatility and vice versa. \n",
        "\n",
        "\n",
        "If we notice from the PACF that the Time Series resembles white noise (no significant autocorrelation) but the squared returns suggest using an AR(N) model, we should use an ARCH(N) to model variance\n",
        "\n",
        "\n",
        "### Install the arch package "
      ]
    },
    {
      "cell_type": "code",
      "metadata": {
        "id": "GuDy8lE6kOD2",
        "colab_type": "code",
        "colab": {}
      },
      "source": [
        "!pip install -q arch"
      ],
      "execution_count": 142,
      "outputs": []
    },
    {
      "cell_type": "code",
      "metadata": {
        "id": "WCV6dCbBi2Mx",
        "colab_type": "code",
        "colab": {}
      },
      "source": [
        "from arch import arch_model"
      ],
      "execution_count": 143,
      "outputs": []
    },
    {
      "cell_type": "code",
      "metadata": {
        "id": "J1jyOrAnk0mg",
        "colab_type": "code",
        "colab": {
          "base_uri": "https://localhost:8080/",
          "height": 612
        },
        "outputId": "674934df-e5e8-4a85-b34c-f5577a9975da"
      },
      "source": [
        "model_arch_1 = arch_model(df_training.daily_return[1:], mean = \"Constant\", vol = \"ARCH\", p = 1)\n",
        "results_arch_1 = model_arch_1.fit(update_freq = 1)\n",
        "print(results_arch_1.summary())"
      ],
      "execution_count": 144,
      "outputs": [
        {
          "output_type": "stream",
          "text": [
            "Iteration:      1,   Func. Count:      5,   Neg. LLF: 1890.0180324146677\n",
            "Iteration:      2,   Func. Count:     13,   Neg. LLF: 1889.9613393114196\n",
            "Iteration:      3,   Func. Count:     20,   Neg. LLF: 1889.77410705774\n",
            "Iteration:      4,   Func. Count:     28,   Neg. LLF: 1889.7678603055006\n",
            "Iteration:      5,   Func. Count:     33,   Neg. LLF: 1889.7677342644279\n",
            "Optimization terminated successfully.    (Exit mode 0)\n",
            "            Current function value: 1889.7677342642419\n",
            "            Iterations: 5\n",
            "            Function evaluations: 33\n",
            "            Gradient evaluations: 5\n",
            "                      Constant Mean - ARCH Model Results                      \n",
            "==============================================================================\n",
            "Dep. Variable:           daily_return   R-squared:                      -0.000\n",
            "Mean Model:             Constant Mean   Adj. R-squared:                 -0.000\n",
            "Vol Model:                       ARCH   Log-Likelihood:               -1889.77\n",
            "Distribution:                  Normal   AIC:                           3785.54\n",
            "Method:            Maximum Likelihood   BIC:                           3800.53\n",
            "                                        No. Observations:                 1095\n",
            "Date:                Tue, Jun 16 2020   Df Residuals:                     1092\n",
            "Time:                        18:13:31   Df Model:                            3\n",
            "                                  Mean Model                                 \n",
            "=============================================================================\n",
            "                 coef    std err          t      P>|t|       95.0% Conf. Int.\n",
            "-----------------------------------------------------------------------------\n",
            "mu         8.4208e-03  4.109e-02      0.205      0.838 [-7.212e-02,8.896e-02]\n",
            "                             Volatility Model                             \n",
            "==========================================================================\n",
            "                 coef    std err          t      P>|t|    95.0% Conf. Int.\n",
            "--------------------------------------------------------------------------\n",
            "omega          1.5801      0.134     11.805  3.672e-32   [  1.318,  1.842]\n",
            "alpha[1]       0.1759  5.461e-02      3.221  1.277e-03 [6.887e-02,  0.283]\n",
            "==========================================================================\n",
            "\n",
            "Covariance estimator: robust\n"
          ],
          "name": "stdout"
        }
      ]
    },
    {
      "cell_type": "markdown",
      "metadata": {
        "id": "b7vT-hw9k_Kr",
        "colab_type": "text"
      },
      "source": [
        "#### Constant Mean ARCH Model Results\n",
        "\n",
        "Iterations = 6 (python only needed 6 iterations)\n",
        "\n",
        "Mean Model = Constant\n",
        "\n",
        "Volatility Model = ARCH\n",
        "\n",
        "Distribution = Normal - this is the distribution of the residuals. \n",
        "\n",
        "Method = the way we find the coefficients = Max Likelihood\n",
        "\n",
        "R-Sq & Adj. R-Sq = a meaure of explantory variance away from the mean, but we have a constant mean model, so the R-sq isn't useful here (or for ARCH in general)\n",
        "\n",
        "The DF Model shows the number of this model has - the number of coefficients we are trying to estimate\n",
        "\n",
        "The Mean Model - the low t-stat and high p-value, so our coefficient isn't significantly different from zero.\n",
        "\n",
        "Volatility Model:\n",
        " \n",
        " Omega = constant value in the variance\n",
        " \n",
        " Alpha[1] = Coefficient of the squared error\n",
        " \n",
        " We must compare the Log-Likelihood of the ARCH model to the Log-Likelihood of the ARIMA models to decide which model to use - make sure you are comparing like with like (same data). \n",
        "\n",
        " Choose highest LL.\n",
        "\n",
        "\n",
        "\n"
      ]
    },
    {
      "cell_type": "code",
      "metadata": {
        "id": "kwYJSGgQn5at",
        "colab_type": "code",
        "colab": {}
      },
      "source": [
        "print(model_auto_Returns.summary())"
      ],
      "execution_count": null,
      "outputs": []
    },
    {
      "cell_type": "markdown",
      "metadata": {
        "id": "p9gsfT-qtNy9",
        "colab_type": "text"
      },
      "source": [
        "For illustrative purposes, we can use other parameters in our ARCH model and compare the outputs"
      ]
    },
    {
      "cell_type": "code",
      "metadata": {
        "id": "0a8qT2fdr8p-",
        "colab_type": "code",
        "colab": {}
      },
      "source": [
        "model_arch_1 = arch_model(df_training.daily_return[1:], mean = \"AR\", lags = [2,3,4,5,6], vol = \"ARCH\", p = 1)\n",
        "results_arch_1 = model_arch_1.fit(update_freq = 1)\n",
        "print(results_arch_1.summary())"
      ],
      "execution_count": null,
      "outputs": []
    },
    {
      "cell_type": "markdown",
      "metadata": {
        "id": "o22pt9qWuC93",
        "colab_type": "text"
      },
      "source": [
        "We can also increase the ARCH order to see the impact this has on estimation"
      ]
    },
    {
      "cell_type": "code",
      "metadata": {
        "id": "BJetukhGuKAU",
        "colab_type": "code",
        "colab": {}
      },
      "source": [
        "model_arch_2 = arch_model(df_training.daily_return[1:], mean = \"Constant\", vol = \"ARCH\", p = 2)\n",
        "results_arch_2 = model_arch_2.fit(update_freq = 1)\n",
        "print(results_arch_2.summary())"
      ],
      "execution_count": null,
      "outputs": []
    },
    {
      "cell_type": "markdown",
      "metadata": {
        "id": "KnA2bP-YvJ9E",
        "colab_type": "text"
      },
      "source": [
        "Notice we need more iterations as we are regressing against an extra variable, and the AIC has dropped from our ARCH(1) model. \n",
        "\n",
        "Increasing the order resulted in a better volatility model.\n",
        "\n",
        "Let's check additional ARCH orders...."
      ]
    },
    {
      "cell_type": "code",
      "metadata": {
        "id": "fMapeKjctnJl",
        "colab_type": "code",
        "colab": {}
      },
      "source": [
        "model_arch_3 = arch_model(df_training.daily_return[1:], mean = \"Constant\", vol = \"ARCH\", p = 3)\n",
        "results_arch_3 = model_arch_3.fit(update_freq = 1)\n",
        "print(results_arch_3.summary())"
      ],
      "execution_count": null,
      "outputs": []
    },
    {
      "cell_type": "code",
      "metadata": {
        "id": "qZGk5kSjvwhh",
        "colab_type": "code",
        "colab": {}
      },
      "source": [
        "# Just as an example\n",
        "\n",
        "model_arch_9 = arch_model(df_training.daily_return[1:], mean = \"Constant\", vol = \"ARCH\", p = 9)\n",
        "results_arch_9 = model_arch_9.fit(update_freq = 1)\n",
        "print(results_arch_9.summary())"
      ],
      "execution_count": null,
      "outputs": []
    },
    {
      "cell_type": "markdown",
      "metadata": {
        "id": "xsG54wMGwQU6",
        "colab_type": "text"
      },
      "source": [
        "The more variables we add - the more past squared residuals we take into account - the less important each one becomes\n",
        "\n",
        "And so it renders many coefficients that were significant at lower, insignificant. \n",
        "\n",
        "Perhaps we could include past values with the ARCH model.\n",
        "\n",
        "Past returns are included in the Mean model, we can include PAST values of Conditional Variance -- this is GARCH\n",
        "\n",
        "GARCH is an extension of ARCH in which we add past values of the conditional variance to the the equation.  This makes sense due to volatility clustering - volatility tends to cluster, while returns tend to jump around.  \n",
        "\n",
        "This introduces a new coefficient - on the past value of the conditional variance (beta) \n",
        "\n",
        "### Comparing GARCH and ARMA \n",
        "\n",
        "GARCH(1,1) - ARCH order past errors & GARCH order past values of conditional volatility\n",
        "\n",
        "ARMA(1,1) - AR order past y & MA order past errors\n",
        "\n",
        "GARCH component ~ AR component\n",
        "ARCH component is square of the MA component \n",
        "\n",
        "We can use an ARMA(p,q) for the mean equation, and a GARCH(p,q) for the volatility equation.\n",
        "\n",
        "\n",
        "\n",
        "\n",
        "\n"
      ]
    },
    {
      "cell_type": "code",
      "metadata": {
        "id": "aQHHDrhVwKvW",
        "colab_type": "code",
        "colab": {}
      },
      "source": [
        "model_GARCH_1_1 = arch_model(df_training.daily_return[1:], mean = \"Constant\", vol = \"GARCH\", p = 1, q = 1)\n",
        "results_GARCH_1_1 = model_GARCH_1_1.fit(update_freq = 1)\n",
        "print(results_GARCH_1_1.summary())"
      ],
      "execution_count": null,
      "outputs": []
    },
    {
      "cell_type": "code",
      "metadata": {
        "id": "sYl2oasa2Aui",
        "colab_type": "code",
        "colab": {}
      },
      "source": [
        "model_GARCH_1_2 = arch_model(df_training.daily_return[1:], mean = \"Constant\", vol = \"GARCH\", p = 1, q = 2)\n",
        "results_GARCH_1_2 = model_GARCH_1_2.fit(update_freq = 10)\n",
        "print(results_GARCH_1_2.summary())"
      ],
      "execution_count": null,
      "outputs": []
    },
    {
      "cell_type": "code",
      "metadata": {
        "id": "_cuaq3CB2alw",
        "colab_type": "code",
        "colab": {}
      },
      "source": [
        "model_GARCH_1_3 = arch_model(df_training.daily_return[1:], mean = \"Constant\", vol = \"GARCH\", p = 1, q = 3)\n",
        "results_GARCH_1_3 = model_GARCH_1_3.fit(update_freq = 10)\n",
        "print(results_GARCH_1_3.summary())"
      ],
      "execution_count": null,
      "outputs": []
    },
    {
      "cell_type": "code",
      "metadata": {
        "id": "hnYgoSkv22ZH",
        "colab_type": "code",
        "colab": {}
      },
      "source": [
        "model_GARCH_2_1 = arch_model(df_training.daily_return[1:], mean = \"Constant\", vol = \"GARCH\", p = 2, q = 1)\n",
        "results_GARCH_2_1 = model_GARCH_2_1.fit(update_freq = 10)\n",
        "print(results_GARCH_2_1.summary())"
      ],
      "execution_count": null,
      "outputs": []
    },
    {
      "cell_type": "markdown",
      "metadata": {
        "id": "YnOl_uI084iW",
        "colab_type": "text"
      },
      "source": [
        "### Forecasting \n",
        "\n"
      ]
    },
    {
      "cell_type": "code",
      "metadata": {
        "id": "xCp3Nl5q3NvA",
        "colab_type": "code",
        "colab": {}
      },
      "source": [
        "# Prep Test Data\n",
        "df_test['daily_return'] = df_test.Spot.pct_change(1).mul(100)\n",
        "df_test.daily_return = df_test.daily_return.fillna(method='bfill')"
      ],
      "execution_count": null,
      "outputs": []
    },
    {
      "cell_type": "code",
      "metadata": {
        "id": "tlsiuiJvA2pZ",
        "colab_type": "code",
        "colab": {}
      },
      "source": [
        "print(\"df starts at \", df.index.min(), \"and ends at \", df.index.max())\n",
        "print(\"df_training starts at \", df_training.index.min(), \"and ends on \", df_training.index.max())\n",
        "print(\"Df_test starts at \", df_test.index.min(), \"and ends on \", df_test.index.max())\n"
      ],
      "execution_count": null,
      "outputs": []
    },
    {
      "cell_type": "code",
      "metadata": {
        "id": "tRj_ic8RCEOr",
        "colab_type": "code",
        "colab": {}
      },
      "source": [
        "# Set Dates for For Selecting Part of teh Model to Plot aginst Test Data\n",
        "start_date = \"2018-05-02\" # make sure the date is a business day in the data frame\n",
        "end_date = \"2019-05-13\"\n"
      ],
      "execution_count": null,
      "outputs": []
    },
    {
      "cell_type": "markdown",
      "metadata": {
        "id": "jho2r1fVJcKM",
        "colab_type": "text"
      },
      "source": [
        "Fit an AR model using price data"
      ]
    },
    {
      "cell_type": "code",
      "metadata": {
        "id": "MZ9xAQog9H0L",
        "colab_type": "code",
        "colab": {}
      },
      "source": [
        "model_AR_Predict = ARIMA(df.Spot, order = (3,1,2)) # you select model order here\n",
        "results_AR_Predict = model_AR_Predict.fit()"
      ],
      "execution_count": null,
      "outputs": []
    },
    {
      "cell_type": "code",
      "metadata": {
        "id": "WhKrvKY6-AfG",
        "colab_type": "code",
        "colab": {}
      },
      "source": [
        "df_pred = results_AR.predict()"
      ],
      "execution_count": null,
      "outputs": []
    },
    {
      "cell_type": "code",
      "metadata": {
        "id": "JoV0bsrSA09T",
        "colab_type": "code",
        "colab": {}
      },
      "source": [
        "df_pred[start_date:end_date].plot(figsize=(16,12), color='red')\n",
        "df_training.Spot[start_date:end_date].plot(figsize=(16,12), color='blue')\n",
        "plt.title('Predicted vs Actual', size=18)"
      ],
      "execution_count": null,
      "outputs": []
    },
    {
      "cell_type": "markdown",
      "metadata": {
        "id": "C4RQ194QJho2",
        "colab_type": "text"
      },
      "source": [
        "Fit a chosen model using Returns"
      ]
    },
    {
      "cell_type": "code",
      "metadata": {
        "id": "7xs4jaY5FTnt",
        "colab_type": "code",
        "colab": {}
      },
      "source": [
        "model_ret_ar_pred = ARIMA(df_training.daily_return[1:], order = (5,0,0))\n",
        "results_ret_ar = model_ret_ar_pred.fit()\n",
        "\n",
        "df_pred_ar = results_ret_ar.predict() \n",
        "\n",
        "df_pred_ar[start_date:end_date].plot(figsize = (16,12), color = \"red\")\n",
        "df_training.daily_return[start_date:end_date].plot(color = \"blue\")\n",
        "plt.title(\"Predictions vs Actual (Returns)\", size = 24)\n",
        "plt.show()"
      ],
      "execution_count": null,
      "outputs": []
    },
    {
      "cell_type": "code",
      "metadata": {
        "id": "zHnd78spIfrX",
        "colab_type": "code",
        "colab": {}
      },
      "source": [
        "print(results_ret_ar.summary())"
      ],
      "execution_count": null,
      "outputs": []
    },
    {
      "cell_type": "code",
      "metadata": {
        "id": "0fX0g-41LBYT",
        "colab_type": "code",
        "colab": {}
      },
      "source": [
        ""
      ],
      "execution_count": null,
      "outputs": []
    },
    {
      "cell_type": "markdown",
      "metadata": {
        "id": "fufNSl99LZV1",
        "colab_type": "text"
      },
      "source": [
        "### MA Model"
      ]
    },
    {
      "cell_type": "code",
      "metadata": {
        "id": "QxFqmSxDLcRC",
        "colab_type": "code",
        "colab": {}
      },
      "source": [
        "model_ret_ma = ARIMA(df_training.daily_return[1:], order=(0,0,1))\n",
        "results_ret_ma = model_ret_ma.fit()\n",
        "\n",
        "df_pred_ma = results_ret_ma.predict() \n",
        "\n",
        "df_pred_ma[start_date:end_date].plot(figsize = (14,8), color = \"red\")   \n",
        "df_training.daily_return[start_date:end_date].plot(color = \"blue\")\n",
        "plt.title(\"Predictions vs Actual (Returns)\", size = 20)\n",
        "plt.show()"
      ],
      "execution_count": null,
      "outputs": []
    },
    {
      "cell_type": "markdown",
      "metadata": {
        "id": "q2stOUfBMdoI",
        "colab_type": "text"
      },
      "source": [
        "### ARMA"
      ]
    },
    {
      "cell_type": "code",
      "metadata": {
        "id": "juFUgiZjMfrH",
        "colab_type": "code",
        "colab": {}
      },
      "source": [
        "model_ret_arma = ARIMA(df_training.daily_return[1:], order=(1,0,1))\n",
        "results_ret_arma = model_ret_arma.fit()\n",
        "\n",
        "df_pred_ma = results_ret_ma.predict() \n",
        "\n",
        "df_pred_ma[start_date:end_date].plot(figsize = (14,8), color = \"red\")   \n",
        "df_training.daily_return[start_date:end_date].plot(color = \"blue\")\n",
        "plt.title(\"Predictions vs Actual (Returns)\", size = 20)\n",
        "plt.show()"
      ],
      "execution_count": null,
      "outputs": []
    },
    {
      "cell_type": "markdown",
      "metadata": {
        "id": "NgZtGETRNMns",
        "colab_type": "text"
      },
      "source": [
        "### Auto ARIMA"
      ]
    },
    {
      "cell_type": "code",
      "metadata": {
        "id": "2YYCQxmAMxFP",
        "colab_type": "code",
        "colab": {}
      },
      "source": [
        "model_auto = auto_arima(df_training.daily_return[1:], m = 5, max_p = 5, max_q = 5, max_P = 5, max_Q = 5)\n",
        "results_auto_arima = model_auto.fit()\n",
        "df_auto = results_auto_arima.predict()"
      ],
      "execution_count": null,
      "outputs": []
    },
    {
      "cell_type": "code",
      "metadata": {
        "id": "ghkZlwf9NbAJ",
        "colab_type": "code",
        "colab": {}
      },
      "source": [
        "print(result_auto_arima.summary())"
      ],
      "execution_count": null,
      "outputs": []
    },
    {
      "cell_type": "markdown",
      "metadata": {
        "id": "vK8IKL2WNqPX",
        "colab_type": "text"
      },
      "source": [
        "Once Auto ARIMA selects a model, use the ARMA function above and set the order(p,d,q) as per the order"
      ]
    },
    {
      "cell_type": "code",
      "metadata": {
        "id": "OTU41YJAOYnp",
        "colab_type": "code",
        "colab": {}
      },
      "source": [
        "df_auto[start_date:end_date].plot(figsize = (16,8), color = \"red\")   \n",
        "df_training.daily_return[start_date:end_date].plot(color = \"blue\")\n",
        "plt.title(\"Predictions vs Actual (Returns)\", size = 18)\n",
        "plt.show()"
      ],
      "execution_count": null,
      "outputs": []
    },
    {
      "cell_type": "markdown",
      "metadata": {
        "id": "oOxE1u4TPIVv",
        "colab_type": "text"
      },
      "source": [
        "### Forecasting Volatility\n",
        "\n"
      ]
    },
    {
      "cell_type": "code",
      "metadata": {
        "id": "neWpbsW2RBG2",
        "colab_type": "code",
        "colab": {}
      },
      "source": [
        "# Prep the data frame\n",
        "df['daily_return'] = df.Spot.pct_change(1).mul(100)"
      ],
      "execution_count": null,
      "outputs": []
    },
    {
      "cell_type": "code",
      "metadata": {
        "id": "pFjwBddZPLx0",
        "colab_type": "code",
        "colab": {}
      },
      "source": [
        "mod_garch = arch_model(df_training.daily_return[1:], vol = \"GARCH\", p = 1, q = 1, mean = \"constant\", dist = \"Normal\")\n",
        "res_garch = mod_garch.fit(last_obs = start_date, update_freq = 5)"
      ],
      "execution_count": null,
      "outputs": []
    },
    {
      "cell_type": "code",
      "metadata": {
        "id": "kEaCEE7-Pa5r",
        "colab_type": "code",
        "colab": {}
      },
      "source": [
        "pred_garch = res_garch.forecast(horizon=1, align = 'target')"
      ],
      "execution_count": null,
      "outputs": []
    },
    {
      "cell_type": "code",
      "metadata": {
        "id": "eUIMr7xLP2-L",
        "colab_type": "code",
        "colab": {}
      },
      "source": [
        "pred_garch.residual_variance[start_date:].plot(figsize = (14,8), color = \"red\", zorder = 2)\n",
        "df_training.daily_return.abs()[start_date:].plot(color = \"blue\", zorder = 1)\n",
        "plt.title(\"Volatility Predictions\", size = 18)\n",
        "plt.show()"
      ],
      "execution_count": null,
      "outputs": []
    },
    {
      "cell_type": "code",
      "metadata": {
        "id": "fZTbVQmSQGKE",
        "colab_type": "code",
        "colab": {}
      },
      "source": [
        "pred_garch = res_garch.forecast(horizon = 100, align = 'target')\n",
        "pred_garch.residual_variance[-1:]"
      ],
      "execution_count": null,
      "outputs": []
    },
    {
      "cell_type": "code",
      "metadata": {
        "id": "6eJyDv9nQs8j",
        "colab_type": "code",
        "colab": {}
      },
      "source": [
        ""
      ],
      "execution_count": null,
      "outputs": []
    }
  ]
}